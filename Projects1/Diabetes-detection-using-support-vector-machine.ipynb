{
 "cells": [
  {
   "cell_type": "markdown",
   "id": "65bdc641",
   "metadata": {
    "papermill": {
     "duration": 0.012659,
     "end_time": "2024-01-20T19:07:39.024463",
     "exception": false,
     "start_time": "2024-01-20T19:07:39.011804",
     "status": "completed"
    },
    "tags": []
   },
   "source": [
    "### <center> Diabetes Detection Using Classification Methods (Logistic Regression, Decision Tree, Random Forest, XGBClassifier, Support Vector Machine, Naive Bayes, K Nearest Neighbors). </center>"
   ]
  },
  {
   "cell_type": "markdown",
   "id": "d595a4de",
   "metadata": {
    "papermill": {
     "duration": 0.012018,
     "end_time": "2024-01-20T19:07:39.049050",
     "exception": false,
     "start_time": "2024-01-20T19:07:39.037032",
     "status": "completed"
    },
    "tags": []
   },
   "source": [
    "# Introduction\n",
    "The purpose of this notebook is to analyze the data and then modelize the diabetes based on the features given in the dataset.\n",
    "\n",
    "To reach this goal, we will follow the following steps:\n",
    "\n",
    "- Produce an exploratory analysis of the data, the role of which is to assess the quality of the data and especially to identify highly correlated features\n",
    "- Build a model based on stacking\n",
    "- Optimize this model in terms of the number of basic models and the number of features."
   ]
  },
  {
   "cell_type": "markdown",
   "id": "d8fe14e0",
   "metadata": {
    "papermill": {
     "duration": 0.011713,
     "end_time": "2024-01-20T19:07:39.073002",
     "exception": false,
     "start_time": "2024-01-20T19:07:39.061289",
     "status": "completed"
    },
    "tags": []
   },
   "source": [
    "# Content <a id = \"cont\"></a>\n",
    "- [Dataset Insepection](#1)\n",
    "- [Data Cleaning](#2)\n",
    "- [Exploratory Data Analysis](#3)\n",
    "- [Model Building](#4)\n",
    "    - [Grid Search CV](#grid_search_cv)\n",
    "- [Support Vector Machine Model](#5)\n",
    "- [Prediction Diabetes](#6)\n",
    "- [Conclusion](#7)"
   ]
  },
  {
   "cell_type": "code",
   "execution_count": 1,
   "id": "bfdc0e62",
   "metadata": {
    "execution": {
     "iopub.execute_input": "2024-01-20T19:07:39.099159Z",
     "iopub.status.busy": "2024-01-20T19:07:39.098389Z",
     "iopub.status.idle": "2024-01-20T19:07:41.634606Z",
     "shell.execute_reply": "2024-01-20T19:07:41.633331Z"
    },
    "papermill": {
     "duration": 2.552251,
     "end_time": "2024-01-20T19:07:41.637407",
     "exception": false,
     "start_time": "2024-01-20T19:07:39.085156",
     "status": "completed"
    },
    "tags": []
   },
   "outputs": [],
   "source": [
    "import pandas as pd\n",
    "import numpy as np\n",
    "import matplotlib.pyplot as plt\n",
    "import seaborn as sns\n",
    "\n",
    "from sklearn.preprocessing import StandardScaler\n",
    "from sklearn.model_selection import train_test_split, GridSearchCV, RandomizedSearchCV\n",
    "\n",
    "from sklearn.linear_model import LogisticRegression\n",
    "from sklearn.tree import DecisionTreeClassifier\n",
    "from sklearn.ensemble import RandomForestClassifier\n",
    "from sklearn.svm import SVC\n",
    "from sklearn.naive_bayes import GaussianNB, MultinomialNB\n",
    "from sklearn.neighbors import KNeighborsClassifier\n",
    "\n",
    "from xgboost import XGBClassifier\n",
    "from scipy.stats import norm"
   ]
  },
  {
   "cell_type": "code",
   "execution_count": 2,
   "id": "96c05636",
   "metadata": {
    "execution": {
     "iopub.execute_input": "2024-01-20T19:07:41.663694Z",
     "iopub.status.busy": "2024-01-20T19:07:41.663102Z",
     "iopub.status.idle": "2024-01-20T19:07:41.668269Z",
     "shell.execute_reply": "2024-01-20T19:07:41.667222Z"
    },
    "papermill": {
     "duration": 0.020847,
     "end_time": "2024-01-20T19:07:41.670525",
     "exception": false,
     "start_time": "2024-01-20T19:07:41.649678",
     "status": "completed"
    },
    "tags": []
   },
   "outputs": [],
   "source": [
    "import warnings \n",
    "warnings.filterwarnings(\"ignore\")"
   ]
  },
  {
   "cell_type": "markdown",
   "id": "f561d6f7",
   "metadata": {
    "papermill": {
     "duration": 0.011763,
     "end_time": "2024-01-20T19:07:41.694595",
     "exception": false,
     "start_time": "2024-01-20T19:07:41.682832",
     "status": "completed"
    },
    "tags": []
   },
   "source": [
    "# Dataset Inspection <a id = \"1\"></a>\n",
    "[Go Content](#cont) "
   ]
  },
  {
   "cell_type": "code",
   "execution_count": 3,
   "id": "9fe549a0",
   "metadata": {
    "execution": {
     "iopub.execute_input": "2024-01-20T19:07:41.720877Z",
     "iopub.status.busy": "2024-01-20T19:07:41.720465Z",
     "iopub.status.idle": "2024-01-20T19:07:41.770625Z",
     "shell.execute_reply": "2024-01-20T19:07:41.769617Z"
    },
    "papermill": {
     "duration": 0.06616,
     "end_time": "2024-01-20T19:07:41.772888",
     "exception": false,
     "start_time": "2024-01-20T19:07:41.706728",
     "status": "completed"
    },
    "tags": []
   },
   "outputs": [
    {
     "name": "stdout",
     "output_type": "stream",
     "text": [
      "Shape: (768, 9)\n"
     ]
    },
    {
     "data": {
      "text/html": [
       "<div>\n",
       "<style scoped>\n",
       "    .dataframe tbody tr th:only-of-type {\n",
       "        vertical-align: middle;\n",
       "    }\n",
       "\n",
       "    .dataframe tbody tr th {\n",
       "        vertical-align: top;\n",
       "    }\n",
       "\n",
       "    .dataframe thead th {\n",
       "        text-align: right;\n",
       "    }\n",
       "</style>\n",
       "<table border=\"1\" class=\"dataframe\">\n",
       "  <thead>\n",
       "    <tr style=\"text-align: right;\">\n",
       "      <th></th>\n",
       "      <th>Pregnancies</th>\n",
       "      <th>Glucose</th>\n",
       "      <th>BloodPressure</th>\n",
       "      <th>SkinThickness</th>\n",
       "      <th>Insulin</th>\n",
       "      <th>BMI</th>\n",
       "      <th>DiabetesPedigreeFunction</th>\n",
       "      <th>Age</th>\n",
       "      <th>Outcome</th>\n",
       "    </tr>\n",
       "  </thead>\n",
       "  <tbody>\n",
       "    <tr>\n",
       "      <th>0</th>\n",
       "      <td>6</td>\n",
       "      <td>148</td>\n",
       "      <td>72</td>\n",
       "      <td>35</td>\n",
       "      <td>0</td>\n",
       "      <td>33.6</td>\n",
       "      <td>0.627</td>\n",
       "      <td>50</td>\n",
       "      <td>1</td>\n",
       "    </tr>\n",
       "    <tr>\n",
       "      <th>1</th>\n",
       "      <td>1</td>\n",
       "      <td>85</td>\n",
       "      <td>66</td>\n",
       "      <td>29</td>\n",
       "      <td>0</td>\n",
       "      <td>26.6</td>\n",
       "      <td>0.351</td>\n",
       "      <td>31</td>\n",
       "      <td>0</td>\n",
       "    </tr>\n",
       "    <tr>\n",
       "      <th>2</th>\n",
       "      <td>8</td>\n",
       "      <td>183</td>\n",
       "      <td>64</td>\n",
       "      <td>0</td>\n",
       "      <td>0</td>\n",
       "      <td>23.3</td>\n",
       "      <td>0.672</td>\n",
       "      <td>32</td>\n",
       "      <td>1</td>\n",
       "    </tr>\n",
       "    <tr>\n",
       "      <th>3</th>\n",
       "      <td>1</td>\n",
       "      <td>89</td>\n",
       "      <td>66</td>\n",
       "      <td>23</td>\n",
       "      <td>94</td>\n",
       "      <td>28.1</td>\n",
       "      <td>0.167</td>\n",
       "      <td>21</td>\n",
       "      <td>0</td>\n",
       "    </tr>\n",
       "    <tr>\n",
       "      <th>4</th>\n",
       "      <td>0</td>\n",
       "      <td>137</td>\n",
       "      <td>40</td>\n",
       "      <td>35</td>\n",
       "      <td>168</td>\n",
       "      <td>43.1</td>\n",
       "      <td>2.288</td>\n",
       "      <td>33</td>\n",
       "      <td>1</td>\n",
       "    </tr>\n",
       "  </tbody>\n",
       "</table>\n",
       "</div>"
      ],
      "text/plain": [
       "   Pregnancies  Glucose  BloodPressure  SkinThickness  Insulin   BMI  \\\n",
       "0            6      148             72             35        0  33.6   \n",
       "1            1       85             66             29        0  26.6   \n",
       "2            8      183             64              0        0  23.3   \n",
       "3            1       89             66             23       94  28.1   \n",
       "4            0      137             40             35      168  43.1   \n",
       "\n",
       "   DiabetesPedigreeFunction  Age  Outcome  \n",
       "0                     0.627   50        1  \n",
       "1                     0.351   31        0  \n",
       "2                     0.672   32        1  \n",
       "3                     0.167   21        0  \n",
       "4                     2.288   33        1  "
      ]
     },
     "execution_count": 3,
     "metadata": {},
     "output_type": "execute_result"
    }
   ],
   "source": [
    "# Read Dataset\n",
    "df = pd.read_csv(\"/kaggle/input/diabetes-dataset/diabetes.csv\")\n",
    "\n",
    "print(\"Shape:\", df.shape)\n",
    "df.head()"
   ]
  },
  {
   "cell_type": "markdown",
   "id": "00a5de5b",
   "metadata": {
    "papermill": {
     "duration": 0.012002,
     "end_time": "2024-01-20T19:07:41.797450",
     "exception": false,
     "start_time": "2024-01-20T19:07:41.785448",
     "status": "completed"
    },
    "tags": []
   },
   "source": [
    "### Dataset description\n",
    "- Pregnancies: To express the Number of pregnancies\n",
    "\n",
    "- Glucose: To express the Glucose level in blood\n",
    "\n",
    "- BloodPressure: To express the Blood pressure measurement\n",
    "\n",
    "- SkinThickness: To express the thickness of the skin\n",
    "\n",
    "- Insulin: To express the Insulin level in blood\n",
    "\n",
    "- BMI: To express the Body mass index\n",
    "\n",
    "- DiabetesPedigreeFunction: To express the Diabetes percentage\n",
    "\n",
    "- Age: To express the age\n",
    "\n",
    "- Outcome: To express the final result 1 is Yes and 0 is No"
   ]
  },
  {
   "cell_type": "code",
   "execution_count": 4,
   "id": "9d3bb40e",
   "metadata": {
    "execution": {
     "iopub.execute_input": "2024-01-20T19:07:41.824623Z",
     "iopub.status.busy": "2024-01-20T19:07:41.824234Z",
     "iopub.status.idle": "2024-01-20T19:07:41.851624Z",
     "shell.execute_reply": "2024-01-20T19:07:41.850553Z"
    },
    "papermill": {
     "duration": 0.043766,
     "end_time": "2024-01-20T19:07:41.853942",
     "exception": false,
     "start_time": "2024-01-20T19:07:41.810176",
     "status": "completed"
    },
    "tags": []
   },
   "outputs": [
    {
     "name": "stdout",
     "output_type": "stream",
     "text": [
      "<class 'pandas.core.frame.DataFrame'>\n",
      "RangeIndex: 768 entries, 0 to 767\n",
      "Data columns (total 9 columns):\n",
      " #   Column                    Non-Null Count  Dtype  \n",
      "---  ------                    --------------  -----  \n",
      " 0   Pregnancies               768 non-null    int64  \n",
      " 1   Glucose                   768 non-null    int64  \n",
      " 2   BloodPressure             768 non-null    int64  \n",
      " 3   SkinThickness             768 non-null    int64  \n",
      " 4   Insulin                   768 non-null    int64  \n",
      " 5   BMI                       768 non-null    float64\n",
      " 6   DiabetesPedigreeFunction  768 non-null    float64\n",
      " 7   Age                       768 non-null    int64  \n",
      " 8   Outcome                   768 non-null    int64  \n",
      "dtypes: float64(2), int64(7)\n",
      "memory usage: 54.1 KB\n"
     ]
    }
   ],
   "source": [
    "df.info()"
   ]
  },
  {
   "cell_type": "code",
   "execution_count": 5,
   "id": "ca022fd8",
   "metadata": {
    "execution": {
     "iopub.execute_input": "2024-01-20T19:07:41.880641Z",
     "iopub.status.busy": "2024-01-20T19:07:41.880271Z",
     "iopub.status.idle": "2024-01-20T19:07:41.919568Z",
     "shell.execute_reply": "2024-01-20T19:07:41.918472Z"
    },
    "papermill": {
     "duration": 0.055398,
     "end_time": "2024-01-20T19:07:41.921913",
     "exception": false,
     "start_time": "2024-01-20T19:07:41.866515",
     "status": "completed"
    },
    "tags": []
   },
   "outputs": [
    {
     "data": {
      "text/html": [
       "<div>\n",
       "<style scoped>\n",
       "    .dataframe tbody tr th:only-of-type {\n",
       "        vertical-align: middle;\n",
       "    }\n",
       "\n",
       "    .dataframe tbody tr th {\n",
       "        vertical-align: top;\n",
       "    }\n",
       "\n",
       "    .dataframe thead th {\n",
       "        text-align: right;\n",
       "    }\n",
       "</style>\n",
       "<table border=\"1\" class=\"dataframe\">\n",
       "  <thead>\n",
       "    <tr style=\"text-align: right;\">\n",
       "      <th></th>\n",
       "      <th>Pregnancies</th>\n",
       "      <th>Glucose</th>\n",
       "      <th>BloodPressure</th>\n",
       "      <th>SkinThickness</th>\n",
       "      <th>Insulin</th>\n",
       "      <th>BMI</th>\n",
       "      <th>DiabetesPedigreeFunction</th>\n",
       "      <th>Age</th>\n",
       "      <th>Outcome</th>\n",
       "    </tr>\n",
       "  </thead>\n",
       "  <tbody>\n",
       "    <tr>\n",
       "      <th>count</th>\n",
       "      <td>768.000000</td>\n",
       "      <td>768.000000</td>\n",
       "      <td>768.000000</td>\n",
       "      <td>768.000000</td>\n",
       "      <td>768.000000</td>\n",
       "      <td>768.000000</td>\n",
       "      <td>768.000000</td>\n",
       "      <td>768.000000</td>\n",
       "      <td>768.000000</td>\n",
       "    </tr>\n",
       "    <tr>\n",
       "      <th>mean</th>\n",
       "      <td>3.845052</td>\n",
       "      <td>120.894531</td>\n",
       "      <td>69.105469</td>\n",
       "      <td>20.536458</td>\n",
       "      <td>79.799479</td>\n",
       "      <td>31.992578</td>\n",
       "      <td>0.471876</td>\n",
       "      <td>33.240885</td>\n",
       "      <td>0.348958</td>\n",
       "    </tr>\n",
       "    <tr>\n",
       "      <th>std</th>\n",
       "      <td>3.369578</td>\n",
       "      <td>31.972618</td>\n",
       "      <td>19.355807</td>\n",
       "      <td>15.952218</td>\n",
       "      <td>115.244002</td>\n",
       "      <td>7.884160</td>\n",
       "      <td>0.331329</td>\n",
       "      <td>11.760232</td>\n",
       "      <td>0.476951</td>\n",
       "    </tr>\n",
       "    <tr>\n",
       "      <th>min</th>\n",
       "      <td>0.000000</td>\n",
       "      <td>0.000000</td>\n",
       "      <td>0.000000</td>\n",
       "      <td>0.000000</td>\n",
       "      <td>0.000000</td>\n",
       "      <td>0.000000</td>\n",
       "      <td>0.078000</td>\n",
       "      <td>21.000000</td>\n",
       "      <td>0.000000</td>\n",
       "    </tr>\n",
       "    <tr>\n",
       "      <th>25%</th>\n",
       "      <td>1.000000</td>\n",
       "      <td>99.000000</td>\n",
       "      <td>62.000000</td>\n",
       "      <td>0.000000</td>\n",
       "      <td>0.000000</td>\n",
       "      <td>27.300000</td>\n",
       "      <td>0.243750</td>\n",
       "      <td>24.000000</td>\n",
       "      <td>0.000000</td>\n",
       "    </tr>\n",
       "    <tr>\n",
       "      <th>50%</th>\n",
       "      <td>3.000000</td>\n",
       "      <td>117.000000</td>\n",
       "      <td>72.000000</td>\n",
       "      <td>23.000000</td>\n",
       "      <td>30.500000</td>\n",
       "      <td>32.000000</td>\n",
       "      <td>0.372500</td>\n",
       "      <td>29.000000</td>\n",
       "      <td>0.000000</td>\n",
       "    </tr>\n",
       "    <tr>\n",
       "      <th>75%</th>\n",
       "      <td>6.000000</td>\n",
       "      <td>140.250000</td>\n",
       "      <td>80.000000</td>\n",
       "      <td>32.000000</td>\n",
       "      <td>127.250000</td>\n",
       "      <td>36.600000</td>\n",
       "      <td>0.626250</td>\n",
       "      <td>41.000000</td>\n",
       "      <td>1.000000</td>\n",
       "    </tr>\n",
       "    <tr>\n",
       "      <th>max</th>\n",
       "      <td>17.000000</td>\n",
       "      <td>199.000000</td>\n",
       "      <td>122.000000</td>\n",
       "      <td>99.000000</td>\n",
       "      <td>846.000000</td>\n",
       "      <td>67.100000</td>\n",
       "      <td>2.420000</td>\n",
       "      <td>81.000000</td>\n",
       "      <td>1.000000</td>\n",
       "    </tr>\n",
       "  </tbody>\n",
       "</table>\n",
       "</div>"
      ],
      "text/plain": [
       "       Pregnancies     Glucose  BloodPressure  SkinThickness     Insulin  \\\n",
       "count   768.000000  768.000000     768.000000     768.000000  768.000000   \n",
       "mean      3.845052  120.894531      69.105469      20.536458   79.799479   \n",
       "std       3.369578   31.972618      19.355807      15.952218  115.244002   \n",
       "min       0.000000    0.000000       0.000000       0.000000    0.000000   \n",
       "25%       1.000000   99.000000      62.000000       0.000000    0.000000   \n",
       "50%       3.000000  117.000000      72.000000      23.000000   30.500000   \n",
       "75%       6.000000  140.250000      80.000000      32.000000  127.250000   \n",
       "max      17.000000  199.000000     122.000000      99.000000  846.000000   \n",
       "\n",
       "              BMI  DiabetesPedigreeFunction         Age     Outcome  \n",
       "count  768.000000                768.000000  768.000000  768.000000  \n",
       "mean    31.992578                  0.471876   33.240885    0.348958  \n",
       "std      7.884160                  0.331329   11.760232    0.476951  \n",
       "min      0.000000                  0.078000   21.000000    0.000000  \n",
       "25%     27.300000                  0.243750   24.000000    0.000000  \n",
       "50%     32.000000                  0.372500   29.000000    0.000000  \n",
       "75%     36.600000                  0.626250   41.000000    1.000000  \n",
       "max     67.100000                  2.420000   81.000000    1.000000  "
      ]
     },
     "execution_count": 5,
     "metadata": {},
     "output_type": "execute_result"
    }
   ],
   "source": [
    "df.describe()"
   ]
  },
  {
   "cell_type": "code",
   "execution_count": 6,
   "id": "1a4affcc",
   "metadata": {
    "execution": {
     "iopub.execute_input": "2024-01-20T19:07:41.950303Z",
     "iopub.status.busy": "2024-01-20T19:07:41.949291Z",
     "iopub.status.idle": "2024-01-20T19:07:41.958221Z",
     "shell.execute_reply": "2024-01-20T19:07:41.956775Z"
    },
    "papermill": {
     "duration": 0.025402,
     "end_time": "2024-01-20T19:07:41.960376",
     "exception": false,
     "start_time": "2024-01-20T19:07:41.934974",
     "status": "completed"
    },
    "tags": []
   },
   "outputs": [
    {
     "name": "stdout",
     "output_type": "stream",
     "text": [
      "Unique Value: [1 0]\n",
      "Value Counts: Outcome\n",
      "0    500\n",
      "1    268\n",
      "Name: count, dtype: int64\n"
     ]
    }
   ],
   "source": [
    "print(\"Unique Value:\", df['Outcome'].unique())\n",
    "print(\"Value Counts:\", df['Outcome'].value_counts())"
   ]
  },
  {
   "cell_type": "code",
   "execution_count": 7,
   "id": "8776f857",
   "metadata": {
    "execution": {
     "iopub.execute_input": "2024-01-20T19:07:41.988657Z",
     "iopub.status.busy": "2024-01-20T19:07:41.988255Z",
     "iopub.status.idle": "2024-01-20T19:07:41.997661Z",
     "shell.execute_reply": "2024-01-20T19:07:41.996639Z"
    },
    "papermill": {
     "duration": 0.025923,
     "end_time": "2024-01-20T19:07:41.999751",
     "exception": false,
     "start_time": "2024-01-20T19:07:41.973828",
     "status": "completed"
    },
    "tags": []
   },
   "outputs": [
    {
     "data": {
      "text/plain": [
       "Pregnancies                  17\n",
       "Glucose                     136\n",
       "BloodPressure                47\n",
       "SkinThickness                51\n",
       "Insulin                     186\n",
       "BMI                         248\n",
       "DiabetesPedigreeFunction    517\n",
       "Age                          52\n",
       "Outcome                       2\n",
       "dtype: int64"
      ]
     },
     "execution_count": 7,
     "metadata": {},
     "output_type": "execute_result"
    }
   ],
   "source": [
    "# Count the number of unique value in dataset\n",
    "df.nunique()"
   ]
  },
  {
   "cell_type": "code",
   "execution_count": 8,
   "id": "7fecfb7e",
   "metadata": {
    "execution": {
     "iopub.execute_input": "2024-01-20T19:07:42.028804Z",
     "iopub.status.busy": "2024-01-20T19:07:42.027999Z",
     "iopub.status.idle": "2024-01-20T19:07:42.049721Z",
     "shell.execute_reply": "2024-01-20T19:07:42.048493Z"
    },
    "papermill": {
     "duration": 0.038795,
     "end_time": "2024-01-20T19:07:42.052077",
     "exception": false,
     "start_time": "2024-01-20T19:07:42.013282",
     "status": "completed"
    },
    "tags": []
   },
   "outputs": [
    {
     "data": {
      "text/html": [
       "<div>\n",
       "<style scoped>\n",
       "    .dataframe tbody tr th:only-of-type {\n",
       "        vertical-align: middle;\n",
       "    }\n",
       "\n",
       "    .dataframe tbody tr th {\n",
       "        vertical-align: top;\n",
       "    }\n",
       "\n",
       "    .dataframe thead th {\n",
       "        text-align: right;\n",
       "    }\n",
       "</style>\n",
       "<table border=\"1\" class=\"dataframe\">\n",
       "  <thead>\n",
       "    <tr style=\"text-align: right;\">\n",
       "      <th></th>\n",
       "      <th>Pregnancies</th>\n",
       "      <th>Glucose</th>\n",
       "      <th>BloodPressure</th>\n",
       "      <th>SkinThickness</th>\n",
       "      <th>Insulin</th>\n",
       "      <th>BMI</th>\n",
       "      <th>DiabetesPedigreeFunction</th>\n",
       "      <th>Age</th>\n",
       "    </tr>\n",
       "    <tr>\n",
       "      <th>Outcome</th>\n",
       "      <th></th>\n",
       "      <th></th>\n",
       "      <th></th>\n",
       "      <th></th>\n",
       "      <th></th>\n",
       "      <th></th>\n",
       "      <th></th>\n",
       "      <th></th>\n",
       "    </tr>\n",
       "  </thead>\n",
       "  <tbody>\n",
       "    <tr>\n",
       "      <th>0</th>\n",
       "      <td>3.298000</td>\n",
       "      <td>109.980000</td>\n",
       "      <td>68.184000</td>\n",
       "      <td>19.664000</td>\n",
       "      <td>68.792000</td>\n",
       "      <td>30.304200</td>\n",
       "      <td>0.429734</td>\n",
       "      <td>31.190000</td>\n",
       "    </tr>\n",
       "    <tr>\n",
       "      <th>1</th>\n",
       "      <td>4.865672</td>\n",
       "      <td>141.257463</td>\n",
       "      <td>70.824627</td>\n",
       "      <td>22.164179</td>\n",
       "      <td>100.335821</td>\n",
       "      <td>35.142537</td>\n",
       "      <td>0.550500</td>\n",
       "      <td>37.067164</td>\n",
       "    </tr>\n",
       "  </tbody>\n",
       "</table>\n",
       "</div>"
      ],
      "text/plain": [
       "         Pregnancies     Glucose  BloodPressure  SkinThickness     Insulin  \\\n",
       "Outcome                                                                      \n",
       "0           3.298000  109.980000      68.184000      19.664000   68.792000   \n",
       "1           4.865672  141.257463      70.824627      22.164179  100.335821   \n",
       "\n",
       "               BMI  DiabetesPedigreeFunction        Age  \n",
       "Outcome                                                  \n",
       "0        30.304200                  0.429734  31.190000  \n",
       "1        35.142537                  0.550500  37.067164  "
      ]
     },
     "execution_count": 8,
     "metadata": {},
     "output_type": "execute_result"
    }
   ],
   "source": [
    "df.groupby(\"Outcome\").mean()"
   ]
  },
  {
   "cell_type": "markdown",
   "id": "3d648b79",
   "metadata": {
    "papermill": {
     "duration": 0.013044,
     "end_time": "2024-01-20T19:07:42.079142",
     "exception": false,
     "start_time": "2024-01-20T19:07:42.066098",
     "status": "completed"
    },
    "tags": []
   },
   "source": [
    "#  Data Cleaning <a id = \"2\"></a>\n",
    "[Go Content](#cont) "
   ]
  },
  {
   "cell_type": "code",
   "execution_count": 9,
   "id": "053f25ed",
   "metadata": {
    "execution": {
     "iopub.execute_input": "2024-01-20T19:07:42.108079Z",
     "iopub.status.busy": "2024-01-20T19:07:42.107696Z",
     "iopub.status.idle": "2024-01-20T19:07:42.115985Z",
     "shell.execute_reply": "2024-01-20T19:07:42.114922Z"
    },
    "papermill": {
     "duration": 0.025638,
     "end_time": "2024-01-20T19:07:42.118583",
     "exception": false,
     "start_time": "2024-01-20T19:07:42.092945",
     "status": "completed"
    },
    "tags": []
   },
   "outputs": [
    {
     "data": {
      "text/plain": [
       "Pregnancies                 0\n",
       "Glucose                     0\n",
       "BloodPressure               0\n",
       "SkinThickness               0\n",
       "Insulin                     0\n",
       "BMI                         0\n",
       "DiabetesPedigreeFunction    0\n",
       "Age                         0\n",
       "Outcome                     0\n",
       "dtype: int64"
      ]
     },
     "execution_count": 9,
     "metadata": {},
     "output_type": "execute_result"
    }
   ],
   "source": [
    "df.isna().sum()"
   ]
  },
  {
   "cell_type": "markdown",
   "id": "0e24abed",
   "metadata": {
    "papermill": {
     "duration": 0.013006,
     "end_time": "2024-01-20T19:07:42.146635",
     "exception": false,
     "start_time": "2024-01-20T19:07:42.133629",
     "status": "completed"
    },
    "tags": []
   },
   "source": [
    "### Find the Outliers"
   ]
  },
  {
   "cell_type": "code",
   "execution_count": 10,
   "id": "f15e967d",
   "metadata": {
    "execution": {
     "iopub.execute_input": "2024-01-20T19:07:42.176012Z",
     "iopub.status.busy": "2024-01-20T19:07:42.174958Z",
     "iopub.status.idle": "2024-01-20T19:07:43.126444Z",
     "shell.execute_reply": "2024-01-20T19:07:43.125327Z"
    },
    "papermill": {
     "duration": 0.968894,
     "end_time": "2024-01-20T19:07:43.129052",
     "exception": false,
     "start_time": "2024-01-20T19:07:42.160158",
     "status": "completed"
    },
    "tags": []
   },
   "outputs": [
    {
     "data": {
      "image/png": "[encoded data removed]",
      "text/plain": [
       "<Figure size 600x800 with 6 Axes>"
      ]
     },
     "metadata": {},
     "output_type": "display_data"
    }
   ],
   "source": [
    "# Find Outliers using Boxplot\n",
    "fig, axes = plt.subplots(6, 1, figsize=(6, 8))\n",
    "\n",
    "sns.boxplot(x=df['Glucose'], ax=axes[0])\n",
    "sns.boxplot(x=df['BloodPressure'], ax=axes[1])\n",
    "sns.boxplot(x=df['SkinThickness'], ax=axes[2])\n",
    "sns.boxplot(x=df['Insulin'], ax=axes[3])\n",
    "sns.boxplot(x=df['BMI'], ax=axes[4])\n",
    "sns.boxplot(x=df['DiabetesPedigreeFunction'], ax=axes[5])\n",
    "\n",
    "plt.tight_layout()\n",
    "plt.show()"
   ]
  },
  {
   "cell_type": "code",
   "execution_count": 11,
   "id": "6f6c9f44",
   "metadata": {
    "execution": {
     "iopub.execute_input": "2024-01-20T19:07:43.221829Z",
     "iopub.status.busy": "2024-01-20T19:07:43.221381Z",
     "iopub.status.idle": "2024-01-20T19:07:43.233657Z",
     "shell.execute_reply": "2024-01-20T19:07:43.232385Z"
    },
    "papermill": {
     "duration": 0.031089,
     "end_time": "2024-01-20T19:07:43.236365",
     "exception": false,
     "start_time": "2024-01-20T19:07:43.205276",
     "status": "completed"
    },
    "tags": []
   },
   "outputs": [
    {
     "name": "stdout",
     "output_type": "stream",
     "text": [
      "Max Threshold: 293.0\n",
      "Number of Row Deleted: 38\n"
     ]
    }
   ],
   "source": [
    "# Remove Outliers on Insulin Columns\n",
    "max_threshold = df['Insulin'].quantile(0.95)\n",
    "print(\"Max Threshold:\", max_threshold)\n",
    "\n",
    "print(\"Number of Row Deleted:\", df[(df['Insulin'] > max_threshold) ].shape[0])\n",
    "df = df[(df['Insulin'] < max_threshold) ]"
   ]
  },
  {
   "cell_type": "code",
   "execution_count": 12,
   "id": "c5227733",
   "metadata": {
    "execution": {
     "iopub.execute_input": "2024-01-20T19:07:43.267707Z",
     "iopub.status.busy": "2024-01-20T19:07:43.267267Z",
     "iopub.status.idle": "2024-01-20T19:07:43.277137Z",
     "shell.execute_reply": "2024-01-20T19:07:43.275769Z"
    },
    "papermill": {
     "duration": 0.028475,
     "end_time": "2024-01-20T19:07:43.279652",
     "exception": false,
     "start_time": "2024-01-20T19:07:43.251177",
     "status": "completed"
    },
    "tags": []
   },
   "outputs": [
    {
     "name": "stdout",
     "output_type": "stream",
     "text": [
      "Max Threshold: 1.1224499999999997\n",
      "Number of Row Deleted: 37\n"
     ]
    }
   ],
   "source": [
    "# Remove Outliers on DiabetesPedigreeFunction Columns\n",
    "max_threshold = df['DiabetesPedigreeFunction'].quantile(0.95)\n",
    "print(\"Max Threshold:\", max_threshold)\n",
    "\n",
    "print(\"Number of Row Deleted:\", df[(df['DiabetesPedigreeFunction'] > max_threshold) ].shape[0])\n",
    "df = df[(df['DiabetesPedigreeFunction'] < max_threshold) ]"
   ]
  },
  {
   "cell_type": "code",
   "execution_count": 13,
   "id": "8444fa1b",
   "metadata": {
    "execution": {
     "iopub.execute_input": "2024-01-20T19:07:43.310717Z",
     "iopub.status.busy": "2024-01-20T19:07:43.310286Z",
     "iopub.status.idle": "2024-01-20T19:07:43.326940Z",
     "shell.execute_reply": "2024-01-20T19:07:43.325746Z"
    },
    "papermill": {
     "duration": 0.034772,
     "end_time": "2024-01-20T19:07:43.329142",
     "exception": false,
     "start_time": "2024-01-20T19:07:43.294370",
     "status": "completed"
    },
    "tags": []
   },
   "outputs": [
    {
     "name": "stdout",
     "output_type": "stream",
     "text": [
      "Shape: (691, 9)\n"
     ]
    },
    {
     "data": {
      "text/html": [
       "<div>\n",
       "<style scoped>\n",
       "    .dataframe tbody tr th:only-of-type {\n",
       "        vertical-align: middle;\n",
       "    }\n",
       "\n",
       "    .dataframe tbody tr th {\n",
       "        vertical-align: top;\n",
       "    }\n",
       "\n",
       "    .dataframe thead th {\n",
       "        text-align: right;\n",
       "    }\n",
       "</style>\n",
       "<table border=\"1\" class=\"dataframe\">\n",
       "  <thead>\n",
       "    <tr style=\"text-align: right;\">\n",
       "      <th></th>\n",
       "      <th>Pregnancies</th>\n",
       "      <th>Glucose</th>\n",
       "      <th>BloodPressure</th>\n",
       "      <th>SkinThickness</th>\n",
       "      <th>Insulin</th>\n",
       "      <th>BMI</th>\n",
       "      <th>DiabetesPedigreeFunction</th>\n",
       "      <th>Age</th>\n",
       "      <th>Outcome</th>\n",
       "    </tr>\n",
       "  </thead>\n",
       "  <tbody>\n",
       "    <tr>\n",
       "      <th>0</th>\n",
       "      <td>6</td>\n",
       "      <td>148</td>\n",
       "      <td>72</td>\n",
       "      <td>35</td>\n",
       "      <td>0</td>\n",
       "      <td>33.6</td>\n",
       "      <td>0.627</td>\n",
       "      <td>50</td>\n",
       "      <td>1</td>\n",
       "    </tr>\n",
       "    <tr>\n",
       "      <th>1</th>\n",
       "      <td>1</td>\n",
       "      <td>85</td>\n",
       "      <td>66</td>\n",
       "      <td>29</td>\n",
       "      <td>0</td>\n",
       "      <td>26.6</td>\n",
       "      <td>0.351</td>\n",
       "      <td>31</td>\n",
       "      <td>0</td>\n",
       "    </tr>\n",
       "    <tr>\n",
       "      <th>2</th>\n",
       "      <td>8</td>\n",
       "      <td>183</td>\n",
       "      <td>64</td>\n",
       "      <td>0</td>\n",
       "      <td>0</td>\n",
       "      <td>23.3</td>\n",
       "      <td>0.672</td>\n",
       "      <td>32</td>\n",
       "      <td>1</td>\n",
       "    </tr>\n",
       "    <tr>\n",
       "      <th>3</th>\n",
       "      <td>1</td>\n",
       "      <td>89</td>\n",
       "      <td>66</td>\n",
       "      <td>23</td>\n",
       "      <td>94</td>\n",
       "      <td>28.1</td>\n",
       "      <td>0.167</td>\n",
       "      <td>21</td>\n",
       "      <td>0</td>\n",
       "    </tr>\n",
       "    <tr>\n",
       "      <th>5</th>\n",
       "      <td>5</td>\n",
       "      <td>116</td>\n",
       "      <td>74</td>\n",
       "      <td>0</td>\n",
       "      <td>0</td>\n",
       "      <td>25.6</td>\n",
       "      <td>0.201</td>\n",
       "      <td>30</td>\n",
       "      <td>0</td>\n",
       "    </tr>\n",
       "  </tbody>\n",
       "</table>\n",
       "</div>"
      ],
      "text/plain": [
       "   Pregnancies  Glucose  BloodPressure  SkinThickness  Insulin   BMI  \\\n",
       "0            6      148             72             35        0  33.6   \n",
       "1            1       85             66             29        0  26.6   \n",
       "2            8      183             64              0        0  23.3   \n",
       "3            1       89             66             23       94  28.1   \n",
       "5            5      116             74              0        0  25.6   \n",
       "\n",
       "   DiabetesPedigreeFunction  Age  Outcome  \n",
       "0                     0.627   50        1  \n",
       "1                     0.351   31        0  \n",
       "2                     0.672   32        1  \n",
       "3                     0.167   21        0  \n",
       "5                     0.201   30        0  "
      ]
     },
     "execution_count": 13,
     "metadata": {},
     "output_type": "execute_result"
    }
   ],
   "source": [
    "# New Dataset\n",
    "print(\"Shape:\", df.shape)\n",
    "df.head()"
   ]
  },
  {
   "cell_type": "markdown",
   "id": "5567fca7",
   "metadata": {
    "papermill": {
     "duration": 0.014623,
     "end_time": "2024-01-20T19:07:43.358849",
     "exception": false,
     "start_time": "2024-01-20T19:07:43.344226",
     "status": "completed"
    },
    "tags": []
   },
   "source": [
    "# Exploratory Data Analysis <a id = \"3\"></a>\n",
    "[Go Content](#cont) "
   ]
  },
  {
   "cell_type": "code",
   "execution_count": 14,
   "id": "17e2a9e0",
   "metadata": {
    "execution": {
     "iopub.execute_input": "2024-01-20T19:07:43.390903Z",
     "iopub.status.busy": "2024-01-20T19:07:43.390472Z",
     "iopub.status.idle": "2024-01-20T19:07:43.401099Z",
     "shell.execute_reply": "2024-01-20T19:07:43.400016Z"
    },
    "papermill": {
     "duration": 0.029425,
     "end_time": "2024-01-20T19:07:43.403439",
     "exception": false,
     "start_time": "2024-01-20T19:07:43.374014",
     "status": "completed"
    },
    "tags": []
   },
   "outputs": [
    {
     "data": {
      "text/plain": [
       "Pregnancies                 0.227355\n",
       "Glucose                     0.464200\n",
       "BloodPressure               0.055101\n",
       "SkinThickness               0.029521\n",
       "Insulin                     0.077266\n",
       "BMI                         0.294879\n",
       "DiabetesPedigreeFunction    0.153148\n",
       "Age                         0.234693\n",
       "Outcome                     1.000000\n",
       "Name: Outcome, dtype: float64"
      ]
     },
     "execution_count": 14,
     "metadata": {},
     "output_type": "execute_result"
    }
   ],
   "source": [
    "# Correlation with outcome value\n",
    "df.corr()['Outcome']"
   ]
  },
  {
   "cell_type": "code",
   "execution_count": 15,
   "id": "c3f38813",
   "metadata": {
    "execution": {
     "iopub.execute_input": "2024-01-20T19:07:43.435723Z",
     "iopub.status.busy": "2024-01-20T19:07:43.435298Z",
     "iopub.status.idle": "2024-01-20T19:07:44.020230Z",
     "shell.execute_reply": "2024-01-20T19:07:44.019430Z"
    },
    "papermill": {
     "duration": 0.605142,
     "end_time": "2024-01-20T19:07:44.023877",
     "exception": false,
     "start_time": "2024-01-20T19:07:43.418735",
     "status": "completed"
    },
    "tags": []
   },
   "outputs": [
    {
     "data": {
      "image/png": "[encoded data removed]",
      "text/plain": [
       "<Figure size 640x480 with 2 Axes>"
      ]
     },
     "metadata": {},
     "output_type": "display_data"
    }
   ],
   "source": [
    "sns.heatmap(df.corr(), annot=True, fmt=\".2f\", lw=0.5)\n",
    "plt.show()"
   ]
  },
  {
   "cell_type": "code",
   "execution_count": 16,
   "id": "ff7acf05",
   "metadata": {
    "execution": {
     "iopub.execute_input": "2024-01-20T19:07:44.061466Z",
     "iopub.status.busy": "2024-01-20T19:07:44.060754Z",
     "iopub.status.idle": "2024-01-20T19:07:44.069179Z",
     "shell.execute_reply": "2024-01-20T19:07:44.068130Z"
    },
    "papermill": {
     "duration": 0.030237,
     "end_time": "2024-01-20T19:07:44.071709",
     "exception": false,
     "start_time": "2024-01-20T19:07:44.041472",
     "status": "completed"
    },
    "tags": []
   },
   "outputs": [
    {
     "data": {
      "text/plain": [
       "Outcome\n",
       "0    468\n",
       "1    223\n",
       "dtype: int64"
      ]
     },
     "execution_count": 16,
     "metadata": {},
     "output_type": "execute_result"
    }
   ],
   "source": [
    "df.groupby(\"Outcome\").size()"
   ]
  },
  {
   "cell_type": "markdown",
   "id": "f37b592c",
   "metadata": {
    "papermill": {
     "duration": 0.016945,
     "end_time": "2024-01-20T19:07:44.106134",
     "exception": false,
     "start_time": "2024-01-20T19:07:44.089189",
     "status": "completed"
    },
    "tags": []
   },
   "source": [
    "## Analyze the distribution of data in the dataset."
   ]
  },
  {
   "cell_type": "code",
   "execution_count": 17,
   "id": "336d3ff5",
   "metadata": {
    "execution": {
     "iopub.execute_input": "2024-01-20T19:07:44.152988Z",
     "iopub.status.busy": "2024-01-20T19:07:44.151744Z",
     "iopub.status.idle": "2024-01-20T19:07:46.692930Z",
     "shell.execute_reply": "2024-01-20T19:07:46.691727Z"
    },
    "papermill": {
     "duration": 2.567988,
     "end_time": "2024-01-20T19:07:46.695289",
     "exception": false,
     "start_time": "2024-01-20T19:07:44.127301",
     "status": "completed"
    },
    "tags": []
   },
   "outputs": [
    {
     "data": {
      "image/png": "[encoded data removed]",
      "text/plain": [
       "<Figure size 400x200 with 1 Axes>"
      ]
     },
     "metadata": {},
     "output_type": "display_data"
    },
    {
     "data": {
      "image/png": "[encoded data removed]",
      "text/plain": [
       "<Figure size 400x200 with 1 Axes>"
      ]
     },
     "metadata": {},
     "output_type": "display_data"
    },
    {
     "data": {
      "image/png": "[encoded data removed]",
      "text/plain": [
       "<Figure size 400x200 with 1 Axes>"
      ]
     },
     "metadata": {},
     "output_type": "display_data"
    },
    {
     "data": {
      "image/png": "[encoded data removed]",
      "text/plain": [
       "<Figure size 400x200 with 1 Axes>"
      ]
     },
     "metadata": {},
     "output_type": "display_data"
    },
    {
     "data": {
      "image/png": "[encoded data removed]",
      "text/plain": [
       "<Figure size 400x200 with 1 Axes>"
      ]
     },
     "metadata": {},
     "output_type": "display_data"
    },
    {
     "data": {
      "image/png": "[encoded data removed]",
      "text/plain": [
       "<Figure size 400x200 with 1 Axes>"
      ]
     },
     "metadata": {},
     "output_type": "display_data"
    },
    {
     "data": {
      "image/png": "[encoded data removed]",
      "text/plain": [
       "<Figure size 400x200 with 1 Axes>"
      ]
     },
     "metadata": {},
     "output_type": "display_data"
    },
    {
     "data": {
      "image/png": "[encoded data removed]",
      "text/plain": [
       "<Figure size 400x200 with 1 Axes>"
      ]
     },
     "metadata": {},
     "output_type": "display_data"
    },
    {
     "data": {
      "image/png": "[encoded data removed]",
      "text/plain": [
       "<Figure size 400x200 with 1 Axes>"
      ]
     },
     "metadata": {},
     "output_type": "display_data"
    }
   ],
   "source": [
    "for i in df.columns:\n",
    "    plt.figure(figsize=(4,2))\n",
    "    sns.distplot(df[i], fit = norm)\n",
    "    plt.show()"
   ]
  },
  {
   "cell_type": "markdown",
   "id": "b020add8",
   "metadata": {
    "papermill": {
     "duration": 0.020551,
     "end_time": "2024-01-20T19:07:46.736737",
     "exception": false,
     "start_time": "2024-01-20T19:07:46.716186",
     "status": "completed"
    },
    "tags": []
   },
   "source": [
    "# Model Building<a id = \"4\"></a>\n",
    "[Go Content](#cont) "
   ]
  },
  {
   "cell_type": "code",
   "execution_count": 18,
   "id": "b20da556",
   "metadata": {
    "execution": {
     "iopub.execute_input": "2024-01-20T19:07:46.780359Z",
     "iopub.status.busy": "2024-01-20T19:07:46.779320Z",
     "iopub.status.idle": "2024-01-20T19:07:46.785957Z",
     "shell.execute_reply": "2024-01-20T19:07:46.784818Z"
    },
    "papermill": {
     "duration": 0.031269,
     "end_time": "2024-01-20T19:07:46.788613",
     "exception": false,
     "start_time": "2024-01-20T19:07:46.757344",
     "status": "completed"
    },
    "tags": []
   },
   "outputs": [],
   "source": [
    "X = df.drop(\"Outcome\", axis=\"columns\")\n",
    "y = df['Outcome']"
   ]
  },
  {
   "cell_type": "code",
   "execution_count": 19,
   "id": "dba602f8",
   "metadata": {
    "execution": {
     "iopub.execute_input": "2024-01-20T19:07:46.831895Z",
     "iopub.status.busy": "2024-01-20T19:07:46.831220Z",
     "iopub.status.idle": "2024-01-20T19:07:46.843244Z",
     "shell.execute_reply": "2024-01-20T19:07:46.842124Z"
    },
    "papermill": {
     "duration": 0.03653,
     "end_time": "2024-01-20T19:07:46.845764",
     "exception": false,
     "start_time": "2024-01-20T19:07:46.809234",
     "status": "completed"
    },
    "tags": []
   },
   "outputs": [
    {
     "data": {
      "text/plain": [
       "array([[ 0.64391379,  0.97477094,  0.16616094,  0.96385222, -0.78417478,\n",
       "         0.23930783,  0.90665607,  1.45107622],\n",
       "       [-0.84220655, -1.07789212, -0.13467018,  0.58788728, -0.78417478,\n",
       "        -0.65536829, -0.27836695, -0.1705768 ],\n",
       "       [ 1.23836193,  2.11513931, -0.23494722, -1.22927657, -0.78417478,\n",
       "        -1.07714417,  1.09986635, -0.08522664]])"
      ]
     },
     "execution_count": 19,
     "metadata": {},
     "output_type": "execute_result"
    }
   ],
   "source": [
    "scaler = StandardScaler()\n",
    "X_Scale = scaler.fit_transform(X)\n",
    "X_Scale[0:3]"
   ]
  },
  {
   "cell_type": "code",
   "execution_count": 20,
   "id": "7e83e3b4",
   "metadata": {
    "execution": {
     "iopub.execute_input": "2024-01-20T19:07:46.889626Z",
     "iopub.status.busy": "2024-01-20T19:07:46.888886Z",
     "iopub.status.idle": "2024-01-20T19:07:46.897016Z",
     "shell.execute_reply": "2024-01-20T19:07:46.895709Z"
    },
    "papermill": {
     "duration": 0.032477,
     "end_time": "2024-01-20T19:07:46.899325",
     "exception": false,
     "start_time": "2024-01-20T19:07:46.866848",
     "status": "completed"
    },
    "tags": []
   },
   "outputs": [
    {
     "name": "stdout",
     "output_type": "stream",
     "text": [
      "X_train shape: (552, 8)\n",
      "X_test shape: (139, 8)\n"
     ]
    }
   ],
   "source": [
    "X_train, X_test, y_train, y_test = train_test_split(X, y, test_size=0.20)\n",
    "\n",
    "print(\"X_train shape:\", X_train.shape)\n",
    "print(\"X_test shape:\", X_test.shape)"
   ]
  },
  {
   "cell_type": "markdown",
   "id": "e0e65527",
   "metadata": {
    "papermill": {
     "duration": 0.020435,
     "end_time": "2024-01-20T19:07:46.940519",
     "exception": false,
     "start_time": "2024-01-20T19:07:46.920084",
     "status": "completed"
    },
    "tags": []
   },
   "source": [
    "## Find the best Model using GridSearchCV <a id=\"grid_search_cv\"> </a>\n",
    "[Goto Content](#cont)"
   ]
  },
  {
   "cell_type": "code",
   "execution_count": 21,
   "id": "47faf154",
   "metadata": {
    "execution": {
     "iopub.execute_input": "2024-01-20T19:07:46.983500Z",
     "iopub.status.busy": "2024-01-20T19:07:46.983098Z",
     "iopub.status.idle": "2024-01-20T19:07:46.994097Z",
     "shell.execute_reply": "2024-01-20T19:07:46.993122Z"
    },
    "papermill": {
     "duration": 0.035131,
     "end_time": "2024-01-20T19:07:46.996259",
     "exception": false,
     "start_time": "2024-01-20T19:07:46.961128",
     "status": "completed"
    },
    "tags": []
   },
   "outputs": [],
   "source": [
    "model_params = {\n",
    "    \"Logistic Regression\": {\n",
    "        \"model\": LogisticRegression(),\n",
    "        \"params\": {\n",
    "            \"C\": [1.0, 2.0],\n",
    "            \"max_iter\": [200, 300],\n",
    "            \"penalty\" : [\"l1\",\"l2\"], \n",
    "            \"solver\" : [\"newton-cg\", \"lbfgs\", \"liblinear\", \"sag\", \"saga\"]\n",
    "        }\n",
    "    },\n",
    "    \"Random Forest\": {\n",
    "        \"model\": RandomForestClassifier(),\n",
    "        \"params\": {\n",
    "            \"n_estimators\": [ 70, 100],\n",
    "            \"criterion\" : [\"gini\", \"entropy\",\"log_loss\"], \n",
    "            \"max_features\" : [\"sqrt\",\"log2\", None], \n",
    "            \"class_weight\" : [\"balanced\", \"balanced_subsample\"]\n",
    "        }\n",
    "    },\n",
    "    \"Support Vector Machine\": {\n",
    "        \"model\": SVC(),\n",
    "        \"params\": {\n",
    "            \"C\": [0.001, 0.01, 0.1, 0.2],\n",
    "            \"kernel\": [\"linear\", \"rbf\"]\n",
    "        }\n",
    "    },\n",
    "    \"GaussianNB\": {\n",
    "        \"model\": GaussianNB(),\n",
    "        \"params\": {\n",
    "            \"var_smoothing\": [0.000000000001]\n",
    "        }\n",
    "    },\n",
    "    \"KNeighbors\": {\n",
    "        \"model\": KNeighborsClassifier(),\n",
    "        \"params\" : {\n",
    "            \"n_neighbors\": [12, 14, 18],\n",
    "            \"weights\" : [\"uniform\", \"distance\"], \n",
    "            \"algorithm\" : [\"auto\", \"ball_tree\", \"kd_tree\", \"brute\"], \n",
    "            \"p\" : [1,2]\n",
    "        }\n",
    "    },\n",
    "    \"XGBoost Classification\": {\n",
    "        \"model\": XGBClassifier(),\n",
    "        \"params\": {\n",
    "            'n_estimators': [ 15, 20, 25],\n",
    "            'learning_rate': [0.01, 0.1, 0.2],\n",
    "            'max_depth': [ 1, 2, 3],\n",
    "            'gamma': [0.0001, 0.001, 0.01 ]\n",
    "        }\n",
    "    }\n",
    "}"
   ]
  },
  {
   "cell_type": "code",
   "execution_count": 22,
   "id": "ae4a09a5",
   "metadata": {
    "execution": {
     "iopub.execute_input": "2024-01-20T19:07:47.039676Z",
     "iopub.status.busy": "2024-01-20T19:07:47.039269Z",
     "iopub.status.idle": "2024-01-20T19:09:01.748327Z",
     "shell.execute_reply": "2024-01-20T19:09:01.747290Z"
    },
    "papermill": {
     "duration": 74.734172,
     "end_time": "2024-01-20T19:09:01.751164",
     "exception": false,
     "start_time": "2024-01-20T19:07:47.016992",
     "status": "completed"
    },
    "tags": []
   },
   "outputs": [],
   "source": [
    "scores = []\n",
    "\n",
    "for model, mp in model_params.items():\n",
    "    clf = GridSearchCV(mp['model'], mp['params'], cv=5, return_train_score=False)\n",
    "    clf.fit(X, y)\n",
    "    scores.append({\n",
    "        \"Model\": model,\n",
    "        \"Best Score\": clf.best_score_,\n",
    "        \"Best Params\": clf.best_params_\n",
    "    })\n"
   ]
  },
  {
   "cell_type": "code",
   "execution_count": 23,
   "id": "bd56c393",
   "metadata": {
    "execution": {
     "iopub.execute_input": "2024-01-20T19:09:01.798998Z",
     "iopub.status.busy": "2024-01-20T19:09:01.798573Z",
     "iopub.status.idle": "2024-01-20T19:09:01.814587Z",
     "shell.execute_reply": "2024-01-20T19:09:01.813502Z"
    },
    "papermill": {
     "duration": 0.042419,
     "end_time": "2024-01-20T19:09:01.817027",
     "exception": false,
     "start_time": "2024-01-20T19:09:01.774608",
     "status": "completed"
    },
    "tags": []
   },
   "outputs": [
    {
     "data": {
      "text/html": [
       "<div>\n",
       "<style scoped>\n",
       "    .dataframe tbody tr th:only-of-type {\n",
       "        vertical-align: middle;\n",
       "    }\n",
       "\n",
       "    .dataframe tbody tr th {\n",
       "        vertical-align: top;\n",
       "    }\n",
       "\n",
       "    .dataframe thead th {\n",
       "        text-align: right;\n",
       "    }\n",
       "</style>\n",
       "<table border=\"1\" class=\"dataframe\">\n",
       "  <thead>\n",
       "    <tr style=\"text-align: right;\">\n",
       "      <th></th>\n",
       "      <th>Model</th>\n",
       "      <th>Best Score</th>\n",
       "      <th>Best Params</th>\n",
       "    </tr>\n",
       "  </thead>\n",
       "  <tbody>\n",
       "    <tr>\n",
       "      <th>0</th>\n",
       "      <td>Logistic Regression</td>\n",
       "      <td>0.780033</td>\n",
       "      <td>{'C': 2.0, 'max_iter': 200, 'penalty': 'l2', '...</td>\n",
       "    </tr>\n",
       "    <tr>\n",
       "      <th>1</th>\n",
       "      <td>Random Forest</td>\n",
       "      <td>0.777166</td>\n",
       "      <td>{'class_weight': 'balanced', 'criterion': 'log...</td>\n",
       "    </tr>\n",
       "    <tr>\n",
       "      <th>2</th>\n",
       "      <td>Support Vector Machine</td>\n",
       "      <td>0.787280</td>\n",
       "      <td>{'C': 0.1, 'kernel': 'linear'}</td>\n",
       "    </tr>\n",
       "    <tr>\n",
       "      <th>3</th>\n",
       "      <td>GaussianNB</td>\n",
       "      <td>0.759796</td>\n",
       "      <td>{'var_smoothing': 1e-12}</td>\n",
       "    </tr>\n",
       "    <tr>\n",
       "      <th>4</th>\n",
       "      <td>KNeighbors</td>\n",
       "      <td>0.784339</td>\n",
       "      <td>{'algorithm': 'auto', 'n_neighbors': 14, 'p': ...</td>\n",
       "    </tr>\n",
       "    <tr>\n",
       "      <th>5</th>\n",
       "      <td>XGBoost Classification</td>\n",
       "      <td>0.775727</td>\n",
       "      <td>{'gamma': 0.0001, 'learning_rate': 0.1, 'max_d...</td>\n",
       "    </tr>\n",
       "  </tbody>\n",
       "</table>\n",
       "</div>"
      ],
      "text/plain": [
       "                    Model  Best Score  \\\n",
       "0     Logistic Regression    0.780033   \n",
       "1           Random Forest    0.777166   \n",
       "2  Support Vector Machine    0.787280   \n",
       "3              GaussianNB    0.759796   \n",
       "4              KNeighbors    0.784339   \n",
       "5  XGBoost Classification    0.775727   \n",
       "\n",
       "                                         Best Params  \n",
       "0  {'C': 2.0, 'max_iter': 200, 'penalty': 'l2', '...  \n",
       "1  {'class_weight': 'balanced', 'criterion': 'log...  \n",
       "2                     {'C': 0.1, 'kernel': 'linear'}  \n",
       "3                           {'var_smoothing': 1e-12}  \n",
       "4  {'algorithm': 'auto', 'n_neighbors': 14, 'p': ...  \n",
       "5  {'gamma': 0.0001, 'learning_rate': 0.1, 'max_d...  "
      ]
     },
     "execution_count": 23,
     "metadata": {},
     "output_type": "execute_result"
    }
   ],
   "source": [
    "clf_data_frame = pd.DataFrame(scores, columns=[\"Model\", \"Best Score\", \"Best Params\"])\n",
    "clf_data_frame"
   ]
  },
  {
   "cell_type": "markdown",
   "id": "1a3d8909",
   "metadata": {
    "papermill": {
     "duration": 0.020822,
     "end_time": "2024-01-20T19:09:01.859128",
     "exception": false,
     "start_time": "2024-01-20T19:09:01.838306",
     "status": "completed"
    },
    "tags": []
   },
   "source": [
    "**Comment:** Support Vector Machine Show the Best Score."
   ]
  },
  {
   "cell_type": "markdown",
   "id": "895c417c",
   "metadata": {
    "papermill": {
     "duration": 0.02196,
     "end_time": "2024-01-20T19:09:01.903164",
     "exception": false,
     "start_time": "2024-01-20T19:09:01.881204",
     "status": "completed"
    },
    "tags": []
   },
   "source": [
    "# Support Vector Machine Model  <a id = \"5\"></a>\n",
    "[Go Content](#cont) "
   ]
  },
  {
   "cell_type": "code",
   "execution_count": 24,
   "id": "35fb8402",
   "metadata": {
    "execution": {
     "iopub.execute_input": "2024-01-20T19:09:01.947972Z",
     "iopub.status.busy": "2024-01-20T19:09:01.947509Z",
     "iopub.status.idle": "2024-01-20T19:09:02.099496Z",
     "shell.execute_reply": "2024-01-20T19:09:02.098360Z"
    },
    "papermill": {
     "duration": 0.177486,
     "end_time": "2024-01-20T19:09:02.102004",
     "exception": false,
     "start_time": "2024-01-20T19:09:01.924518",
     "status": "completed"
    },
    "tags": []
   },
   "outputs": [
    {
     "data": {
      "text/html": [
       "<style>#sk-container-id-1 {color: black;background-color: white;}#sk-container-id-1 pre{padding: 0;}#sk-container-id-1 div.sk-toggleable {background-color: white;}#sk-container-id-1 label.sk-toggleable__label {cursor: pointer;display: block;width: 100%;margin-bottom: 0;padding: 0.3em;box-sizing: border-box;text-align: center;}#sk-container-id-1 label.sk-toggleable__label-arrow:before {content: \"▸\";float: left;margin-right: 0.25em;color: #696969;}#sk-container-id-1 label.sk-toggleable__label-arrow:hover:before {color: black;}#sk-container-id-1 div.sk-estimator:hover label.sk-toggleable__label-arrow:before {color: black;}#sk-container-id-1 div.sk-toggleable__content {max-height: 0;max-width: 0;overflow: hidden;text-align: left;background-color: #f0f8ff;}#sk-container-id-1 div.sk-toggleable__content pre {margin: 0.2em;color: black;border-radius: 0.25em;background-color: #f0f8ff;}#sk-container-id-1 input.sk-toggleable__control:checked~div.sk-toggleable__content {max-height: 200px;max-width: 100%;overflow: auto;}#sk-container-id-1 input.sk-toggleable__control:checked~label.sk-toggleable__label-arrow:before {content: \"▾\";}#sk-container-id-1 div.sk-estimator input.sk-toggleable__control:checked~label.sk-toggleable__label {background-color: #d4ebff;}#sk-container-id-1 div.sk-label input.sk-toggleable__control:checked~label.sk-toggleable__label {background-color: #d4ebff;}#sk-container-id-1 input.sk-hidden--visually {border: 0;clip: rect(1px 1px 1px 1px);clip: rect(1px, 1px, 1px, 1px);height: 1px;margin: -1px;overflow: hidden;padding: 0;position: absolute;width: 1px;}#sk-container-id-1 div.sk-estimator {font-family: monospace;background-color: #f0f8ff;border: 1px dotted black;border-radius: 0.25em;box-sizing: border-box;margin-bottom: 0.5em;}#sk-container-id-1 div.sk-estimator:hover {background-color: #d4ebff;}#sk-container-id-1 div.sk-parallel-item::after {content: \"\";width: 100%;border-bottom: 1px solid gray;flex-grow: 1;}#sk-container-id-1 div.sk-label:hover label.sk-toggleable__label {background-color: #d4ebff;}#sk-container-id-1 div.sk-serial::before {content: \"\";position: absolute;border-left: 1px solid gray;box-sizing: border-box;top: 0;bottom: 0;left: 50%;z-index: 0;}#sk-container-id-1 div.sk-serial {display: flex;flex-direction: column;align-items: center;background-color: white;padding-right: 0.2em;padding-left: 0.2em;position: relative;}#sk-container-id-1 div.sk-item {position: relative;z-index: 1;}#sk-container-id-1 div.sk-parallel {display: flex;align-items: stretch;justify-content: center;background-color: white;position: relative;}#sk-container-id-1 div.sk-item::before, #sk-container-id-1 div.sk-parallel-item::before {content: \"\";position: absolute;border-left: 1px solid gray;box-sizing: border-box;top: 0;bottom: 0;left: 50%;z-index: -1;}#sk-container-id-1 div.sk-parallel-item {display: flex;flex-direction: column;z-index: 1;position: relative;background-color: white;}#sk-container-id-1 div.sk-parallel-item:first-child::after {align-self: flex-end;width: 50%;}#sk-container-id-1 div.sk-parallel-item:last-child::after {align-self: flex-start;width: 50%;}#sk-container-id-1 div.sk-parallel-item:only-child::after {width: 0;}#sk-container-id-1 div.sk-dashed-wrapped {border: 1px dashed gray;margin: 0 0.4em 0.5em 0.4em;box-sizing: border-box;padding-bottom: 0.4em;background-color: white;}#sk-container-id-1 div.sk-label label {font-family: monospace;font-weight: bold;display: inline-block;line-height: 1.2em;}#sk-container-id-1 div.sk-label-container {text-align: center;}#sk-container-id-1 div.sk-container {/* jupyter's `normalize.less` sets `[hidden] { display: none; }` but bootstrap.min.css set `[hidden] { display: none !important; }` so we also need the `!important` here to be able to override the default hidden behavior on the sphinx rendered scikit-learn.org. See: https://github.com/scikit-learn/scikit-learn/issues/21755 */display: inline-block !important;position: relative;}#sk-container-id-1 div.sk-text-repr-fallback {display: none;}</style><div id=\"sk-container-id-1\" class=\"sk-top-container\"><div class=\"sk-text-repr-fallback\"><pre>SVC(C=0.1, kernel=&#x27;linear&#x27;)</pre><b>In a Jupyter environment, please rerun this cell to show the HTML representation or trust the notebook. <br />On GitHub, the HTML representation is unable to render, please try loading this page with nbviewer.org.</b></div><div class=\"sk-container\" hidden><div class=\"sk-item\"><div class=\"sk-estimator sk-toggleable\"><input class=\"sk-toggleable__control sk-hidden--visually\" id=\"sk-estimator-id-1\" type=\"checkbox\" checked><label for=\"sk-estimator-id-1\" class=\"sk-toggleable__label sk-toggleable__label-arrow\">SVC</label><div class=\"sk-toggleable__content\"><pre>SVC(C=0.1, kernel=&#x27;linear&#x27;)</pre></div></div></div></div></div>"
      ],
      "text/plain": [
       "SVC(C=0.1, kernel='linear')"
      ]
     },
     "execution_count": 24,
     "metadata": {},
     "output_type": "execute_result"
    }
   ],
   "source": [
    "svm_model = SVC(C=0.1, kernel=\"linear\")\n",
    "svm_model.fit(X_train, y_train)"
   ]
  },
  {
   "cell_type": "code",
   "execution_count": 25,
   "id": "aaa199ba",
   "metadata": {
    "execution": {
     "iopub.execute_input": "2024-01-20T19:09:02.148550Z",
     "iopub.status.busy": "2024-01-20T19:09:02.147632Z",
     "iopub.status.idle": "2024-01-20T19:09:02.158002Z",
     "shell.execute_reply": "2024-01-20T19:09:02.156875Z"
    },
    "papermill": {
     "duration": 0.035632,
     "end_time": "2024-01-20T19:09:02.160212",
     "exception": false,
     "start_time": "2024-01-20T19:09:02.124580",
     "status": "completed"
    },
    "tags": []
   },
   "outputs": [
    {
     "data": {
      "text/plain": [
       "0.7338129496402878"
      ]
     },
     "execution_count": 25,
     "metadata": {},
     "output_type": "execute_result"
    }
   ],
   "source": [
    "svm_model.score(X_test, y_test)"
   ]
  },
  {
   "cell_type": "markdown",
   "id": "0b4fc948",
   "metadata": {
    "papermill": {
     "duration": 0.021947,
     "end_time": "2024-01-20T19:09:02.204259",
     "exception": false,
     "start_time": "2024-01-20T19:09:02.182312",
     "status": "completed"
    },
    "tags": []
   },
   "source": [
    "# Diabetes Prediction  <a id = \"6\"></a>\n",
    "[Go Content](#cont) "
   ]
  },
  {
   "cell_type": "code",
   "execution_count": 26,
   "id": "af799c97",
   "metadata": {
    "execution": {
     "iopub.execute_input": "2024-01-20T19:09:02.249529Z",
     "iopub.status.busy": "2024-01-20T19:09:02.249112Z",
     "iopub.status.idle": "2024-01-20T19:09:02.265644Z",
     "shell.execute_reply": "2024-01-20T19:09:02.264230Z"
    },
    "papermill": {
     "duration": 0.041818,
     "end_time": "2024-01-20T19:09:02.267837",
     "exception": false,
     "start_time": "2024-01-20T19:09:02.226019",
     "status": "completed"
    },
    "tags": []
   },
   "outputs": [
    {
     "data": {
      "text/html": [
       "<div>\n",
       "<style scoped>\n",
       "    .dataframe tbody tr th:only-of-type {\n",
       "        vertical-align: middle;\n",
       "    }\n",
       "\n",
       "    .dataframe tbody tr th {\n",
       "        vertical-align: top;\n",
       "    }\n",
       "\n",
       "    .dataframe thead th {\n",
       "        text-align: right;\n",
       "    }\n",
       "</style>\n",
       "<table border=\"1\" class=\"dataframe\">\n",
       "  <thead>\n",
       "    <tr style=\"text-align: right;\">\n",
       "      <th></th>\n",
       "      <th>Pregnancies</th>\n",
       "      <th>Glucose</th>\n",
       "      <th>BloodPressure</th>\n",
       "      <th>SkinThickness</th>\n",
       "      <th>Insulin</th>\n",
       "      <th>BMI</th>\n",
       "      <th>DiabetesPedigreeFunction</th>\n",
       "      <th>Age</th>\n",
       "      <th>Outcome</th>\n",
       "    </tr>\n",
       "  </thead>\n",
       "  <tbody>\n",
       "    <tr>\n",
       "      <th>65</th>\n",
       "      <td>5</td>\n",
       "      <td>99</td>\n",
       "      <td>74</td>\n",
       "      <td>27</td>\n",
       "      <td>0</td>\n",
       "      <td>29.0</td>\n",
       "      <td>0.203</td>\n",
       "      <td>32</td>\n",
       "      <td>0</td>\n",
       "    </tr>\n",
       "    <tr>\n",
       "      <th>418</th>\n",
       "      <td>1</td>\n",
       "      <td>83</td>\n",
       "      <td>68</td>\n",
       "      <td>0</td>\n",
       "      <td>0</td>\n",
       "      <td>18.2</td>\n",
       "      <td>0.624</td>\n",
       "      <td>27</td>\n",
       "      <td>0</td>\n",
       "    </tr>\n",
       "    <tr>\n",
       "      <th>238</th>\n",
       "      <td>9</td>\n",
       "      <td>164</td>\n",
       "      <td>84</td>\n",
       "      <td>21</td>\n",
       "      <td>0</td>\n",
       "      <td>30.8</td>\n",
       "      <td>0.831</td>\n",
       "      <td>32</td>\n",
       "      <td>1</td>\n",
       "    </tr>\n",
       "    <tr>\n",
       "      <th>620</th>\n",
       "      <td>2</td>\n",
       "      <td>112</td>\n",
       "      <td>86</td>\n",
       "      <td>42</td>\n",
       "      <td>160</td>\n",
       "      <td>38.4</td>\n",
       "      <td>0.246</td>\n",
       "      <td>28</td>\n",
       "      <td>0</td>\n",
       "    </tr>\n",
       "    <tr>\n",
       "      <th>158</th>\n",
       "      <td>2</td>\n",
       "      <td>88</td>\n",
       "      <td>74</td>\n",
       "      <td>19</td>\n",
       "      <td>53</td>\n",
       "      <td>29.0</td>\n",
       "      <td>0.229</td>\n",
       "      <td>22</td>\n",
       "      <td>0</td>\n",
       "    </tr>\n",
       "  </tbody>\n",
       "</table>\n",
       "</div>"
      ],
      "text/plain": [
       "     Pregnancies  Glucose  BloodPressure  SkinThickness  Insulin   BMI  \\\n",
       "65             5       99             74             27        0  29.0   \n",
       "418            1       83             68              0        0  18.2   \n",
       "238            9      164             84             21        0  30.8   \n",
       "620            2      112             86             42      160  38.4   \n",
       "158            2       88             74             19       53  29.0   \n",
       "\n",
       "     DiabetesPedigreeFunction  Age  Outcome  \n",
       "65                      0.203   32        0  \n",
       "418                     0.624   27        0  \n",
       "238                     0.831   32        1  \n",
       "620                     0.246   28        0  \n",
       "158                     0.229   22        0  "
      ]
     },
     "execution_count": 26,
     "metadata": {},
     "output_type": "execute_result"
    }
   ],
   "source": [
    "df.sample(5)"
   ]
  },
  {
   "cell_type": "code",
   "execution_count": 27,
   "id": "05d3c001",
   "metadata": {
    "execution": {
     "iopub.execute_input": "2024-01-20T19:09:02.314239Z",
     "iopub.status.busy": "2024-01-20T19:09:02.313810Z",
     "iopub.status.idle": "2024-01-20T19:09:02.325789Z",
     "shell.execute_reply": "2024-01-20T19:09:02.324717Z"
    },
    "papermill": {
     "duration": 0.038132,
     "end_time": "2024-01-20T19:09:02.328130",
     "exception": false,
     "start_time": "2024-01-20T19:09:02.289998",
     "status": "completed"
    },
    "tags": []
   },
   "outputs": [
    {
     "name": "stdout",
     "output_type": "stream",
     "text": [
      "[1]\n",
      "Person have Diabetes\n"
     ]
    }
   ],
   "source": [
    "features_data = {\n",
    "    \"Pregnancies\": [9],\n",
    "    \"Glucose\": [156],\n",
    "    \"BloodPressure\": [86],\n",
    "    \"SkinThickness\": [0],\n",
    "    \"Insulin\": [0],\n",
    "    \"BMI\": [24.8],\n",
    "    \"DiabetesPedigreeFunction\": [0.230],\n",
    "    \"Age\": [53]\n",
    "}\n",
    "\n",
    "outcome_pred = svm_model.predict(pd.DataFrame(features_data))\n",
    "print(outcome_pred)\n",
    "\n",
    "if outcome_pred[0] == 0:\n",
    "    print(\"Person haven't Diabetes.\")\n",
    "else:\n",
    "    print(\"Person have Diabetes\")"
   ]
  },
  {
   "cell_type": "markdown",
   "id": "5a295a67",
   "metadata": {
    "papermill": {
     "duration": 0.022624,
     "end_time": "2024-01-20T19:09:02.373678",
     "exception": false,
     "start_time": "2024-01-20T19:09:02.351054",
     "status": "completed"
    },
    "tags": []
   },
   "source": [
    "## Conclusion <a id = \"7\"></a>\n",
    "[Go Content](#cont) "
   ]
  },
  {
   "cell_type": "markdown",
   "id": "e998234f",
   "metadata": {
    "papermill": {
     "duration": 0.022574,
     "end_time": "2024-01-20T19:09:02.418680",
     "exception": false,
     "start_time": "2024-01-20T19:09:02.396106",
     "status": "completed"
    },
    "tags": []
   },
   "source": [
    "Using Above this classification model we find that Support Vector Machine gives the best accuracy model."
   ]
  }
 ],
 "metadata": {
  "kaggle": {
   "accelerator": "none",
   "dataSources": [
    {
     "datasetId": 2527538,
     "sourceId": 4289678,
     "sourceType": "datasetVersion"
    }
   ],
   "dockerImageVersionId": 30635,
   "isGpuEnabled": false,
   "isInternetEnabled": true,
   "language": "python",
   "sourceType": "notebook"
  },
  "kernelspec": {
   "display_name": "Python 3",
   "language": "python",
   "name": "python3"
  },
  "language_info": {
   "codemirror_mode": {
    "name": "ipython",
    "version": 3
   },
   "file_extension": ".py",
   "mimetype": "text/x-python",
   "name": "python",
   "nbconvert_exporter": "python",
   "pygments_lexer": "ipython3",
   "version": "3.10.12"
  },
  "papermill": {
   "default_parameters": {},
   "duration": 87.561358,
   "end_time": "2024-01-20T19:09:03.163940",
   "environment_variables": {},
   "exception": null,
   "input_path": "__notebook__.ipynb",
   "output_path": "__notebook__.ipynb",
   "parameters": {},
   "start_time": "2024-01-20T19:07:35.602582",
   "version": "2.4.0"
  }
 },
 "nbformat": 4,
 "nbformat_minor": 5
}
