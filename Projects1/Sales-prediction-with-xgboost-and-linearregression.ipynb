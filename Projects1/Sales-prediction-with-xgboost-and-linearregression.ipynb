{
 "cells": [
  {
   "cell_type": "markdown",
   "id": "5972dd05",
   "metadata": {
    "papermill": {
     "duration": 0.011529,
     "end_time": "2024-01-20T05:44:15.014322",
     "exception": false,
     "start_time": "2024-01-20T05:44:15.002793",
     "status": "completed"
    },
    "tags": []
   },
   "source": [
    "## <center> Company Sales Prediction Based on Marketing Techniques. </center>"
   ]
  },
  {
   "cell_type": "code",
   "execution_count": 1,
   "id": "d13438ab",
   "metadata": {
    "execution": {
     "iopub.execute_input": "2024-01-20T05:44:15.038332Z",
     "iopub.status.busy": "2024-01-20T05:44:15.037866Z",
     "iopub.status.idle": "2024-01-20T05:44:17.868655Z",
     "shell.execute_reply": "2024-01-20T05:44:17.867541Z"
    },
    "papermill": {
     "duration": 2.845952,
     "end_time": "2024-01-20T05:44:17.871492",
     "exception": false,
     "start_time": "2024-01-20T05:44:15.025540",
     "status": "completed"
    },
    "tags": []
   },
   "outputs": [],
   "source": [
    "import numpy as np # linear algebra\n",
    "import pandas as pd # data processing, CSV file I/O (e.g. pd.read_csv)\n",
    "import matplotlib.pyplot as plt\n",
    "import seaborn as sns\n",
    "\n",
    "from xgboost import XGBRegressor\n",
    "from sklearn.linear_model import LinearRegression\n",
    "from sklearn.model_selection import train_test_split, GridSearchCV\n",
    "from sklearn.metrics import mean_squared_error\n",
    "from sklearn.metrics import r2_score"
   ]
  },
  {
   "cell_type": "code",
   "execution_count": 2,
   "id": "f4e55435",
   "metadata": {
    "execution": {
     "iopub.execute_input": "2024-01-20T05:44:17.896694Z",
     "iopub.status.busy": "2024-01-20T05:44:17.896059Z",
     "iopub.status.idle": "2024-01-20T05:44:17.944187Z",
     "shell.execute_reply": "2024-01-20T05:44:17.943199Z"
    },
    "papermill": {
     "duration": 0.064261,
     "end_time": "2024-01-20T05:44:17.947421",
     "exception": false,
     "start_time": "2024-01-20T05:44:17.883160",
     "status": "completed"
    },
    "tags": []
   },
   "outputs": [
    {
     "name": "stdout",
     "output_type": "stream",
     "text": [
      "Shape: (200, 4)\n"
     ]
    },
    {
     "data": {
      "text/html": [
       "<div>\n",
       "<style scoped>\n",
       "    .dataframe tbody tr th:only-of-type {\n",
       "        vertical-align: middle;\n",
       "    }\n",
       "\n",
       "    .dataframe tbody tr th {\n",
       "        vertical-align: top;\n",
       "    }\n",
       "\n",
       "    .dataframe thead th {\n",
       "        text-align: right;\n",
       "    }\n",
       "</style>\n",
       "<table border=\"1\" class=\"dataframe\">\n",
       "  <thead>\n",
       "    <tr style=\"text-align: right;\">\n",
       "      <th></th>\n",
       "      <th>TV</th>\n",
       "      <th>Radio</th>\n",
       "      <th>Newspaper</th>\n",
       "      <th>Sales</th>\n",
       "    </tr>\n",
       "  </thead>\n",
       "  <tbody>\n",
       "    <tr>\n",
       "      <th>0</th>\n",
       "      <td>230.1</td>\n",
       "      <td>37.8</td>\n",
       "      <td>69.2</td>\n",
       "      <td>22.1</td>\n",
       "    </tr>\n",
       "    <tr>\n",
       "      <th>1</th>\n",
       "      <td>44.5</td>\n",
       "      <td>39.3</td>\n",
       "      <td>45.1</td>\n",
       "      <td>10.4</td>\n",
       "    </tr>\n",
       "    <tr>\n",
       "      <th>2</th>\n",
       "      <td>17.2</td>\n",
       "      <td>45.9</td>\n",
       "      <td>69.3</td>\n",
       "      <td>12.0</td>\n",
       "    </tr>\n",
       "    <tr>\n",
       "      <th>3</th>\n",
       "      <td>151.5</td>\n",
       "      <td>41.3</td>\n",
       "      <td>58.5</td>\n",
       "      <td>16.5</td>\n",
       "    </tr>\n",
       "    <tr>\n",
       "      <th>4</th>\n",
       "      <td>180.8</td>\n",
       "      <td>10.8</td>\n",
       "      <td>58.4</td>\n",
       "      <td>17.9</td>\n",
       "    </tr>\n",
       "  </tbody>\n",
       "</table>\n",
       "</div>"
      ],
      "text/plain": [
       "      TV  Radio  Newspaper  Sales\n",
       "0  230.1   37.8       69.2   22.1\n",
       "1   44.5   39.3       45.1   10.4\n",
       "2   17.2   45.9       69.3   12.0\n",
       "3  151.5   41.3       58.5   16.5\n",
       "4  180.8   10.8       58.4   17.9"
      ]
     },
     "execution_count": 2,
     "metadata": {},
     "output_type": "execute_result"
    }
   ],
   "source": [
    "# Read the dataset\n",
    "df0 = pd.read_csv(\"/kaggle/input/advertising-dataset/advertising.csv\")\n",
    "\n",
    "print(\"Shape:\", df0.shape)\n",
    "df0.head()"
   ]
  },
  {
   "cell_type": "markdown",
   "id": "c56e8a5a",
   "metadata": {
    "execution": {
     "iopub.execute_input": "2024-01-20T01:08:29.717338Z",
     "iopub.status.busy": "2024-01-20T01:08:29.716890Z",
     "iopub.status.idle": "2024-01-20T01:08:29.722422Z",
     "shell.execute_reply": "2024-01-20T01:08:29.721427Z",
     "shell.execute_reply.started": "2024-01-20T01:08:29.717303Z"
    },
    "papermill": {
     "duration": 0.011125,
     "end_time": "2024-01-20T05:44:17.970802",
     "exception": false,
     "start_time": "2024-01-20T05:44:17.959677",
     "status": "completed"
    },
    "tags": []
   },
   "source": [
    "# <center> Dataset Inspection </center>"
   ]
  },
  {
   "cell_type": "code",
   "execution_count": 3,
   "id": "cdc0dca3",
   "metadata": {
    "execution": {
     "iopub.execute_input": "2024-01-20T05:44:17.996714Z",
     "iopub.status.busy": "2024-01-20T05:44:17.996025Z",
     "iopub.status.idle": "2024-01-20T05:44:18.007242Z",
     "shell.execute_reply": "2024-01-20T05:44:18.006087Z"
    },
    "papermill": {
     "duration": 0.027873,
     "end_time": "2024-01-20T05:44:18.010333",
     "exception": false,
     "start_time": "2024-01-20T05:44:17.982460",
     "status": "completed"
    },
    "tags": []
   },
   "outputs": [
    {
     "data": {
      "text/plain": [
       "TV           0\n",
       "Radio        0\n",
       "Newspaper    0\n",
       "Sales        0\n",
       "dtype: int64"
      ]
     },
     "execution_count": 3,
     "metadata": {},
     "output_type": "execute_result"
    }
   ],
   "source": [
    "# Sum the NAN data\n",
    "df0.isna().sum()"
   ]
  },
  {
   "cell_type": "code",
   "execution_count": 4,
   "id": "2fabe7d0",
   "metadata": {
    "execution": {
     "iopub.execute_input": "2024-01-20T05:44:18.036008Z",
     "iopub.status.busy": "2024-01-20T05:44:18.035320Z",
     "iopub.status.idle": "2024-01-20T05:44:18.045585Z",
     "shell.execute_reply": "2024-01-20T05:44:18.044367Z"
    },
    "papermill": {
     "duration": 0.025841,
     "end_time": "2024-01-20T05:44:18.048083",
     "exception": false,
     "start_time": "2024-01-20T05:44:18.022242",
     "status": "completed"
    },
    "tags": []
   },
   "outputs": [
    {
     "data": {
      "text/plain": [
       "TV           0\n",
       "Radio        0\n",
       "Newspaper    0\n",
       "Sales        0\n",
       "dtype: int64"
      ]
     },
     "execution_count": 4,
     "metadata": {},
     "output_type": "execute_result"
    }
   ],
   "source": [
    "df0.isnull().sum()"
   ]
  },
  {
   "cell_type": "code",
   "execution_count": 5,
   "id": "36a0aeaf",
   "metadata": {
    "execution": {
     "iopub.execute_input": "2024-01-20T05:44:18.073931Z",
     "iopub.status.busy": "2024-01-20T05:44:18.073516Z",
     "iopub.status.idle": "2024-01-20T05:44:18.101840Z",
     "shell.execute_reply": "2024-01-20T05:44:18.100808Z"
    },
    "papermill": {
     "duration": 0.04492,
     "end_time": "2024-01-20T05:44:18.104824",
     "exception": false,
     "start_time": "2024-01-20T05:44:18.059904",
     "status": "completed"
    },
    "tags": []
   },
   "outputs": [
    {
     "data": {
      "text/html": [
       "<div>\n",
       "<style scoped>\n",
       "    .dataframe tbody tr th:only-of-type {\n",
       "        vertical-align: middle;\n",
       "    }\n",
       "\n",
       "    .dataframe tbody tr th {\n",
       "        vertical-align: top;\n",
       "    }\n",
       "\n",
       "    .dataframe thead th {\n",
       "        text-align: right;\n",
       "    }\n",
       "</style>\n",
       "<table border=\"1\" class=\"dataframe\">\n",
       "  <thead>\n",
       "    <tr style=\"text-align: right;\">\n",
       "      <th></th>\n",
       "      <th>TV</th>\n",
       "      <th>Radio</th>\n",
       "      <th>Newspaper</th>\n",
       "      <th>Sales</th>\n",
       "    </tr>\n",
       "  </thead>\n",
       "  <tbody>\n",
       "    <tr>\n",
       "      <th>count</th>\n",
       "      <td>200.000000</td>\n",
       "      <td>200.000000</td>\n",
       "      <td>200.000000</td>\n",
       "      <td>200.000000</td>\n",
       "    </tr>\n",
       "    <tr>\n",
       "      <th>mean</th>\n",
       "      <td>147.042500</td>\n",
       "      <td>23.264000</td>\n",
       "      <td>30.554000</td>\n",
       "      <td>15.130500</td>\n",
       "    </tr>\n",
       "    <tr>\n",
       "      <th>std</th>\n",
       "      <td>85.854236</td>\n",
       "      <td>14.846809</td>\n",
       "      <td>21.778621</td>\n",
       "      <td>5.283892</td>\n",
       "    </tr>\n",
       "    <tr>\n",
       "      <th>min</th>\n",
       "      <td>0.700000</td>\n",
       "      <td>0.000000</td>\n",
       "      <td>0.300000</td>\n",
       "      <td>1.600000</td>\n",
       "    </tr>\n",
       "    <tr>\n",
       "      <th>25%</th>\n",
       "      <td>74.375000</td>\n",
       "      <td>9.975000</td>\n",
       "      <td>12.750000</td>\n",
       "      <td>11.000000</td>\n",
       "    </tr>\n",
       "    <tr>\n",
       "      <th>50%</th>\n",
       "      <td>149.750000</td>\n",
       "      <td>22.900000</td>\n",
       "      <td>25.750000</td>\n",
       "      <td>16.000000</td>\n",
       "    </tr>\n",
       "    <tr>\n",
       "      <th>75%</th>\n",
       "      <td>218.825000</td>\n",
       "      <td>36.525000</td>\n",
       "      <td>45.100000</td>\n",
       "      <td>19.050000</td>\n",
       "    </tr>\n",
       "    <tr>\n",
       "      <th>max</th>\n",
       "      <td>296.400000</td>\n",
       "      <td>49.600000</td>\n",
       "      <td>114.000000</td>\n",
       "      <td>27.000000</td>\n",
       "    </tr>\n",
       "  </tbody>\n",
       "</table>\n",
       "</div>"
      ],
      "text/plain": [
       "               TV       Radio   Newspaper       Sales\n",
       "count  200.000000  200.000000  200.000000  200.000000\n",
       "mean   147.042500   23.264000   30.554000   15.130500\n",
       "std     85.854236   14.846809   21.778621    5.283892\n",
       "min      0.700000    0.000000    0.300000    1.600000\n",
       "25%     74.375000    9.975000   12.750000   11.000000\n",
       "50%    149.750000   22.900000   25.750000   16.000000\n",
       "75%    218.825000   36.525000   45.100000   19.050000\n",
       "max    296.400000   49.600000  114.000000   27.000000"
      ]
     },
     "execution_count": 5,
     "metadata": {},
     "output_type": "execute_result"
    }
   ],
   "source": [
    "# Describe the dataset\n",
    "df0.describe()"
   ]
  },
  {
   "cell_type": "markdown",
   "id": "c5c97466",
   "metadata": {
    "papermill": {
     "duration": 0.011815,
     "end_time": "2024-01-20T05:44:18.129163",
     "exception": false,
     "start_time": "2024-01-20T05:44:18.117348",
     "status": "completed"
    },
    "tags": []
   },
   "source": [
    "# <center> Data Cleaning </center>"
   ]
  },
  {
   "cell_type": "code",
   "execution_count": 6,
   "id": "f22026f4",
   "metadata": {
    "execution": {
     "iopub.execute_input": "2024-01-20T05:44:18.156550Z",
     "iopub.status.busy": "2024-01-20T05:44:18.155093Z",
     "iopub.status.idle": "2024-01-20T05:44:18.938384Z",
     "shell.execute_reply": "2024-01-20T05:44:18.937195Z"
    },
    "papermill": {
     "duration": 0.799677,
     "end_time": "2024-01-20T05:44:18.941342",
     "exception": false,
     "start_time": "2024-01-20T05:44:18.141665",
     "status": "completed"
    },
    "tags": []
   },
   "outputs": [
    {
     "data": {
      "image/png": "[encoded data removed]",
      "text/plain": [
       "<Figure size 600x800 with 4 Axes>"
      ]
     },
     "metadata": {},
     "output_type": "display_data"
    }
   ],
   "source": [
    "# View outliers using bloxplot\n",
    "\n",
    "# Set up subplots with Seaborn\n",
    "fig, axes = plt.subplots(4, 1, figsize=(6, 8))\n",
    "\n",
    "# Plot boxplots using Seaborn\n",
    "sns.boxplot(x=df0['TV'], ax=axes[0])\n",
    "sns.boxplot(x=df0['Radio'], ax=axes[1])\n",
    "sns.boxplot(x=df0['Newspaper'], ax=axes[2])\n",
    "sns.boxplot(x=df0['Sales'], ax=axes[3])\n",
    "\n",
    "# Set titles for each subplot\n",
    "axes[0].set_title(\"Amount of Marketing cost on TV\")\n",
    "axes[1].set_title(\"Amount of Marketing cost on Radio\")\n",
    "axes[2].set_title(\"Amount of Marketing cost on Newspaper\")\n",
    "axes[3].set_title(\"Amount of Sales\")\n",
    "\n",
    "# Adjust layout\n",
    "plt.tight_layout()\n",
    "# Show the plot\n",
    "plt.show()"
   ]
  },
  {
   "cell_type": "code",
   "execution_count": 7,
   "id": "7c64b006",
   "metadata": {
    "execution": {
     "iopub.execute_input": "2024-01-20T05:44:18.970616Z",
     "iopub.status.busy": "2024-01-20T05:44:18.969673Z",
     "iopub.status.idle": "2024-01-20T05:44:18.985327Z",
     "shell.execute_reply": "2024-01-20T05:44:18.984039Z"
    },
    "papermill": {
     "duration": 0.033202,
     "end_time": "2024-01-20T05:44:18.988060",
     "exception": false,
     "start_time": "2024-01-20T05:44:18.954858",
     "status": "completed"
    },
    "tags": []
   },
   "outputs": [
    {
     "data": {
      "text/plain": [
       "16     114.0\n",
       "101    100.9\n",
       "75      89.4\n",
       "165     84.8\n",
       "118     79.2\n",
       "Name: Newspaper, dtype: float64"
      ]
     },
     "execution_count": 7,
     "metadata": {},
     "output_type": "execute_result"
    }
   ],
   "source": [
    "# Newspaper Last five digits maximum value\n",
    "df0['Newspaper'].nlargest(5).tail(5)"
   ]
  },
  {
   "cell_type": "code",
   "execution_count": 8,
   "id": "f6363a58",
   "metadata": {
    "execution": {
     "iopub.execute_input": "2024-01-20T05:44:19.016385Z",
     "iopub.status.busy": "2024-01-20T05:44:19.015923Z",
     "iopub.status.idle": "2024-01-20T05:44:19.023153Z",
     "shell.execute_reply": "2024-01-20T05:44:19.021646Z"
    },
    "papermill": {
     "duration": 0.024569,
     "end_time": "2024-01-20T05:44:19.025808",
     "exception": false,
     "start_time": "2024-01-20T05:44:19.001239",
     "status": "completed"
    },
    "tags": []
   },
   "outputs": [],
   "source": [
    "# Remove the newspaper outliers value\n",
    "upper_limit = 95\n",
    "df1 = df0[df0['Newspaper'] < upper_limit]"
   ]
  },
  {
   "cell_type": "code",
   "execution_count": 9,
   "id": "f2d48a37",
   "metadata": {
    "execution": {
     "iopub.execute_input": "2024-01-20T05:44:19.054183Z",
     "iopub.status.busy": "2024-01-20T05:44:19.053603Z",
     "iopub.status.idle": "2024-01-20T05:44:19.072489Z",
     "shell.execute_reply": "2024-01-20T05:44:19.071221Z"
    },
    "papermill": {
     "duration": 0.036042,
     "end_time": "2024-01-20T05:44:19.074915",
     "exception": false,
     "start_time": "2024-01-20T05:44:19.038873",
     "status": "completed"
    },
    "tags": []
   },
   "outputs": [
    {
     "name": "stdout",
     "output_type": "stream",
     "text": [
      "Shape: (198, 4)\n"
     ]
    },
    {
     "data": {
      "text/html": [
       "<div>\n",
       "<style scoped>\n",
       "    .dataframe tbody tr th:only-of-type {\n",
       "        vertical-align: middle;\n",
       "    }\n",
       "\n",
       "    .dataframe tbody tr th {\n",
       "        vertical-align: top;\n",
       "    }\n",
       "\n",
       "    .dataframe thead th {\n",
       "        text-align: right;\n",
       "    }\n",
       "</style>\n",
       "<table border=\"1\" class=\"dataframe\">\n",
       "  <thead>\n",
       "    <tr style=\"text-align: right;\">\n",
       "      <th></th>\n",
       "      <th>TV</th>\n",
       "      <th>Radio</th>\n",
       "      <th>Newspaper</th>\n",
       "      <th>Sales</th>\n",
       "    </tr>\n",
       "  </thead>\n",
       "  <tbody>\n",
       "    <tr>\n",
       "      <th>44</th>\n",
       "      <td>25.1</td>\n",
       "      <td>25.7</td>\n",
       "      <td>43.3</td>\n",
       "      <td>8.5</td>\n",
       "    </tr>\n",
       "    <tr>\n",
       "      <th>5</th>\n",
       "      <td>8.7</td>\n",
       "      <td>48.9</td>\n",
       "      <td>75.0</td>\n",
       "      <td>7.2</td>\n",
       "    </tr>\n",
       "    <tr>\n",
       "      <th>18</th>\n",
       "      <td>69.2</td>\n",
       "      <td>20.5</td>\n",
       "      <td>18.3</td>\n",
       "      <td>11.3</td>\n",
       "    </tr>\n",
       "    <tr>\n",
       "      <th>175</th>\n",
       "      <td>276.9</td>\n",
       "      <td>48.9</td>\n",
       "      <td>41.8</td>\n",
       "      <td>27.0</td>\n",
       "    </tr>\n",
       "    <tr>\n",
       "      <th>67</th>\n",
       "      <td>139.3</td>\n",
       "      <td>14.5</td>\n",
       "      <td>10.2</td>\n",
       "      <td>13.4</td>\n",
       "    </tr>\n",
       "    <tr>\n",
       "      <th>37</th>\n",
       "      <td>74.7</td>\n",
       "      <td>49.4</td>\n",
       "      <td>45.7</td>\n",
       "      <td>14.7</td>\n",
       "    </tr>\n",
       "  </tbody>\n",
       "</table>\n",
       "</div>"
      ],
      "text/plain": [
       "        TV  Radio  Newspaper  Sales\n",
       "44    25.1   25.7       43.3    8.5\n",
       "5      8.7   48.9       75.0    7.2\n",
       "18    69.2   20.5       18.3   11.3\n",
       "175  276.9   48.9       41.8   27.0\n",
       "67   139.3   14.5       10.2   13.4\n",
       "37    74.7   49.4       45.7   14.7"
      ]
     },
     "execution_count": 9,
     "metadata": {},
     "output_type": "execute_result"
    }
   ],
   "source": [
    "print(\"Shape:\", df1.shape)\n",
    "df1.sample(6)"
   ]
  },
  {
   "cell_type": "code",
   "execution_count": 10,
   "id": "ab3e5d7f",
   "metadata": {
    "execution": {
     "iopub.execute_input": "2024-01-20T05:44:19.103976Z",
     "iopub.status.busy": "2024-01-20T05:44:19.103495Z",
     "iopub.status.idle": "2024-01-20T05:44:19.110021Z",
     "shell.execute_reply": "2024-01-20T05:44:19.108559Z"
    },
    "papermill": {
     "duration": 0.023923,
     "end_time": "2024-01-20T05:44:19.112413",
     "exception": false,
     "start_time": "2024-01-20T05:44:19.088490",
     "status": "completed"
    },
    "tags": []
   },
   "outputs": [
    {
     "name": "stdout",
     "output_type": "stream",
     "text": [
      "Total Row Remove: 2\n"
     ]
    }
   ],
   "source": [
    "print(\"Total Row Remove:\", df0.shape[0] - df1.shape[0] )"
   ]
  },
  {
   "cell_type": "code",
   "execution_count": 11,
   "id": "f9e9a40c",
   "metadata": {
    "execution": {
     "iopub.execute_input": "2024-01-20T05:44:19.141475Z",
     "iopub.status.busy": "2024-01-20T05:44:19.141024Z",
     "iopub.status.idle": "2024-01-20T05:44:19.146005Z",
     "shell.execute_reply": "2024-01-20T05:44:19.145151Z"
    },
    "papermill": {
     "duration": 0.022339,
     "end_time": "2024-01-20T05:44:19.148304",
     "exception": false,
     "start_time": "2024-01-20T05:44:19.125965",
     "status": "completed"
    },
    "tags": []
   },
   "outputs": [],
   "source": [
    "df = df1.copy()"
   ]
  },
  {
   "cell_type": "markdown",
   "id": "e52e9752",
   "metadata": {
    "papermill": {
     "duration": 0.01301,
     "end_time": "2024-01-20T05:44:19.174718",
     "exception": false,
     "start_time": "2024-01-20T05:44:19.161708",
     "status": "completed"
    },
    "tags": []
   },
   "source": [
    "# <center> Exploratory Data Analysis </center>"
   ]
  },
  {
   "cell_type": "code",
   "execution_count": 12,
   "id": "79c92ce9",
   "metadata": {
    "execution": {
     "iopub.execute_input": "2024-01-20T05:44:19.204022Z",
     "iopub.status.busy": "2024-01-20T05:44:19.203577Z",
     "iopub.status.idle": "2024-01-20T05:44:19.229768Z",
     "shell.execute_reply": "2024-01-20T05:44:19.228563Z"
    },
    "papermill": {
     "duration": 0.044018,
     "end_time": "2024-01-20T05:44:19.232595",
     "exception": false,
     "start_time": "2024-01-20T05:44:19.188577",
     "status": "completed"
    },
    "tags": []
   },
   "outputs": [
    {
     "data": {
      "text/html": [
       "<div>\n",
       "<style scoped>\n",
       "    .dataframe tbody tr th:only-of-type {\n",
       "        vertical-align: middle;\n",
       "    }\n",
       "\n",
       "    .dataframe tbody tr th {\n",
       "        vertical-align: top;\n",
       "    }\n",
       "\n",
       "    .dataframe thead th {\n",
       "        text-align: right;\n",
       "    }\n",
       "</style>\n",
       "<table border=\"1\" class=\"dataframe\">\n",
       "  <thead>\n",
       "    <tr style=\"text-align: right;\">\n",
       "      <th></th>\n",
       "      <th>TV</th>\n",
       "      <th>Radio</th>\n",
       "      <th>Newspaper</th>\n",
       "      <th>Sales</th>\n",
       "    </tr>\n",
       "  </thead>\n",
       "  <tbody>\n",
       "    <tr>\n",
       "      <th>count</th>\n",
       "      <td>198.000000</td>\n",
       "      <td>198.000000</td>\n",
       "      <td>198.000000</td>\n",
       "      <td>198.000000</td>\n",
       "    </tr>\n",
       "    <tr>\n",
       "      <th>mean</th>\n",
       "      <td>146.688384</td>\n",
       "      <td>23.130808</td>\n",
       "      <td>29.777273</td>\n",
       "      <td>15.100000</td>\n",
       "    </tr>\n",
       "    <tr>\n",
       "      <th>std</th>\n",
       "      <td>85.443221</td>\n",
       "      <td>14.862111</td>\n",
       "      <td>20.446303</td>\n",
       "      <td>5.271184</td>\n",
       "    </tr>\n",
       "    <tr>\n",
       "      <th>min</th>\n",
       "      <td>0.700000</td>\n",
       "      <td>0.000000</td>\n",
       "      <td>0.300000</td>\n",
       "      <td>1.600000</td>\n",
       "    </tr>\n",
       "    <tr>\n",
       "      <th>25%</th>\n",
       "      <td>74.800000</td>\n",
       "      <td>9.925000</td>\n",
       "      <td>12.650000</td>\n",
       "      <td>11.000000</td>\n",
       "    </tr>\n",
       "    <tr>\n",
       "      <th>50%</th>\n",
       "      <td>149.750000</td>\n",
       "      <td>22.400000</td>\n",
       "      <td>25.600000</td>\n",
       "      <td>16.000000</td>\n",
       "    </tr>\n",
       "    <tr>\n",
       "      <th>75%</th>\n",
       "      <td>218.475000</td>\n",
       "      <td>36.325000</td>\n",
       "      <td>44.050000</td>\n",
       "      <td>18.975000</td>\n",
       "    </tr>\n",
       "    <tr>\n",
       "      <th>max</th>\n",
       "      <td>293.600000</td>\n",
       "      <td>49.600000</td>\n",
       "      <td>89.400000</td>\n",
       "      <td>27.000000</td>\n",
       "    </tr>\n",
       "  </tbody>\n",
       "</table>\n",
       "</div>"
      ],
      "text/plain": [
       "               TV       Radio   Newspaper       Sales\n",
       "count  198.000000  198.000000  198.000000  198.000000\n",
       "mean   146.688384   23.130808   29.777273   15.100000\n",
       "std     85.443221   14.862111   20.446303    5.271184\n",
       "min      0.700000    0.000000    0.300000    1.600000\n",
       "25%     74.800000    9.925000   12.650000   11.000000\n",
       "50%    149.750000   22.400000   25.600000   16.000000\n",
       "75%    218.475000   36.325000   44.050000   18.975000\n",
       "max    293.600000   49.600000   89.400000   27.000000"
      ]
     },
     "execution_count": 12,
     "metadata": {},
     "output_type": "execute_result"
    }
   ],
   "source": [
    "df.describe()"
   ]
  },
  {
   "cell_type": "code",
   "execution_count": 13,
   "id": "e4151abe",
   "metadata": {
    "execution": {
     "iopub.execute_input": "2024-01-20T05:44:19.262168Z",
     "iopub.status.busy": "2024-01-20T05:44:19.261714Z",
     "iopub.status.idle": "2024-01-20T05:44:19.276234Z",
     "shell.execute_reply": "2024-01-20T05:44:19.275352Z"
    },
    "papermill": {
     "duration": 0.032201,
     "end_time": "2024-01-20T05:44:19.278587",
     "exception": false,
     "start_time": "2024-01-20T05:44:19.246386",
     "status": "completed"
    },
    "tags": []
   },
   "outputs": [
    {
     "data": {
      "text/html": [
       "<div>\n",
       "<style scoped>\n",
       "    .dataframe tbody tr th:only-of-type {\n",
       "        vertical-align: middle;\n",
       "    }\n",
       "\n",
       "    .dataframe tbody tr th {\n",
       "        vertical-align: top;\n",
       "    }\n",
       "\n",
       "    .dataframe thead th {\n",
       "        text-align: right;\n",
       "    }\n",
       "</style>\n",
       "<table border=\"1\" class=\"dataframe\">\n",
       "  <thead>\n",
       "    <tr style=\"text-align: right;\">\n",
       "      <th></th>\n",
       "      <th>TV</th>\n",
       "      <th>Radio</th>\n",
       "      <th>Newspaper</th>\n",
       "      <th>Sales</th>\n",
       "    </tr>\n",
       "  </thead>\n",
       "  <tbody>\n",
       "    <tr>\n",
       "      <th>TV</th>\n",
       "      <td>1.000000</td>\n",
       "      <td>0.051978</td>\n",
       "      <td>0.049771</td>\n",
       "      <td>0.899974</td>\n",
       "    </tr>\n",
       "    <tr>\n",
       "      <th>Radio</th>\n",
       "      <td>0.051978</td>\n",
       "      <td>1.000000</td>\n",
       "      <td>0.346364</td>\n",
       "      <td>0.348566</td>\n",
       "    </tr>\n",
       "    <tr>\n",
       "      <th>Newspaper</th>\n",
       "      <td>0.049771</td>\n",
       "      <td>0.346364</td>\n",
       "      <td>1.000000</td>\n",
       "      <td>0.151764</td>\n",
       "    </tr>\n",
       "    <tr>\n",
       "      <th>Sales</th>\n",
       "      <td>0.899974</td>\n",
       "      <td>0.348566</td>\n",
       "      <td>0.151764</td>\n",
       "      <td>1.000000</td>\n",
       "    </tr>\n",
       "  </tbody>\n",
       "</table>\n",
       "</div>"
      ],
      "text/plain": [
       "                 TV     Radio  Newspaper     Sales\n",
       "TV         1.000000  0.051978   0.049771  0.899974\n",
       "Radio      0.051978  1.000000   0.346364  0.348566\n",
       "Newspaper  0.049771  0.346364   1.000000  0.151764\n",
       "Sales      0.899974  0.348566   0.151764  1.000000"
      ]
     },
     "execution_count": 13,
     "metadata": {},
     "output_type": "execute_result"
    }
   ],
   "source": [
    "df.corr()"
   ]
  },
  {
   "cell_type": "code",
   "execution_count": 14,
   "id": "e9a8eed5",
   "metadata": {
    "execution": {
     "iopub.execute_input": "2024-01-20T05:44:19.308803Z",
     "iopub.status.busy": "2024-01-20T05:44:19.308396Z",
     "iopub.status.idle": "2024-01-20T05:44:19.629767Z",
     "shell.execute_reply": "2024-01-20T05:44:19.628493Z"
    },
    "papermill": {
     "duration": 0.339339,
     "end_time": "2024-01-20T05:44:19.632352",
     "exception": false,
     "start_time": "2024-01-20T05:44:19.293013",
     "status": "completed"
    },
    "tags": []
   },
   "outputs": [
    {
     "data": {
      "image/png": "[encoded data removed]",
      "text/plain": [
       "<Figure size 640x480 with 2 Axes>"
      ]
     },
     "metadata": {},
     "output_type": "display_data"
    }
   ],
   "source": [
    "sns.heatmap(df.corr(), annot=True, fmt=\".2f\", lw=0.5)\n",
    "plt.title(\"Correlation Plot\")\n",
    "plt.show()"
   ]
  },
  {
   "cell_type": "code",
   "execution_count": 15,
   "id": "03147123",
   "metadata": {
    "execution": {
     "iopub.execute_input": "2024-01-20T05:44:19.664742Z",
     "iopub.status.busy": "2024-01-20T05:44:19.664342Z",
     "iopub.status.idle": "2024-01-20T05:44:24.995429Z",
     "shell.execute_reply": "2024-01-20T05:44:24.994379Z"
    },
    "papermill": {
     "duration": 5.351912,
     "end_time": "2024-01-20T05:44:24.999298",
     "exception": false,
     "start_time": "2024-01-20T05:44:19.647386",
     "status": "completed"
    },
    "tags": []
   },
   "outputs": [
    {
     "data": {
      "image/png": "[encoded data removed]",
      "text/plain": [
       "<Figure size 1000x1000 with 20 Axes>"
      ]
     },
     "metadata": {},
     "output_type": "display_data"
    }
   ],
   "source": [
    "sns.pairplot(df)\n",
    "plt.show()"
   ]
  },
  {
   "cell_type": "code",
   "execution_count": 16,
   "id": "0d2e3116",
   "metadata": {
    "execution": {
     "iopub.execute_input": "2024-01-20T05:44:25.036285Z",
     "iopub.status.busy": "2024-01-20T05:44:25.035131Z",
     "iopub.status.idle": "2024-01-20T05:44:25.167578Z",
     "shell.execute_reply": "2024-01-20T05:44:25.166285Z"
    },
    "papermill": {
     "duration": 0.154943,
     "end_time": "2024-01-20T05:44:25.171540",
     "exception": false,
     "start_time": "2024-01-20T05:44:25.016597",
     "status": "completed"
    },
    "tags": []
   },
   "outputs": [
    {
     "data": {
      "image/png": "[encoded data removed]",
      "text/plain": [
       "<Figure size 640x480 with 1 Axes>"
      ]
     },
     "metadata": {},
     "output_type": "display_data"
    }
   ],
   "source": [
    "amounts = []\n",
    "columns = ['TV', 'Radio', 'Newspaper']\n",
    "for i in columns:\n",
    "    amounts.append(df[i].sum())\n",
    "\n",
    "plt.title(\"Pie Chart about Marketing Percentage\")\n",
    "plt.pie(amounts, labels=columns, autopct=\"%1.1f%%\", wedgeprops={'edgecolor': 'black'} )\n",
    "plt.show()"
   ]
  },
  {
   "cell_type": "markdown",
   "id": "567a9231",
   "metadata": {
    "papermill": {
     "duration": 0.017705,
     "end_time": "2024-01-20T05:44:25.207495",
     "exception": false,
     "start_time": "2024-01-20T05:44:25.189790",
     "status": "completed"
    },
    "tags": []
   },
   "source": [
    "# <center> Model Building </center>"
   ]
  },
  {
   "cell_type": "code",
   "execution_count": 17,
   "id": "c8fa8389",
   "metadata": {
    "execution": {
     "iopub.execute_input": "2024-01-20T05:44:25.247023Z",
     "iopub.status.busy": "2024-01-20T05:44:25.246157Z",
     "iopub.status.idle": "2024-01-20T05:44:25.252847Z",
     "shell.execute_reply": "2024-01-20T05:44:25.251908Z"
    },
    "papermill": {
     "duration": 0.029344,
     "end_time": "2024-01-20T05:44:25.255519",
     "exception": false,
     "start_time": "2024-01-20T05:44:25.226175",
     "status": "completed"
    },
    "tags": []
   },
   "outputs": [],
   "source": [
    "X = df.drop('Sales', axis=\"columns\")\n",
    "y = df['Sales']"
   ]
  },
  {
   "cell_type": "code",
   "execution_count": 18,
   "id": "159ebc4f",
   "metadata": {
    "execution": {
     "iopub.execute_input": "2024-01-20T05:44:25.360275Z",
     "iopub.status.busy": "2024-01-20T05:44:25.359837Z",
     "iopub.status.idle": "2024-01-20T05:44:25.373683Z",
     "shell.execute_reply": "2024-01-20T05:44:25.372454Z"
    },
    "papermill": {
     "duration": 0.035906,
     "end_time": "2024-01-20T05:44:25.376262",
     "exception": false,
     "start_time": "2024-01-20T05:44:25.340356",
     "status": "completed"
    },
    "tags": []
   },
   "outputs": [
    {
     "data": {
      "text/html": [
       "<div>\n",
       "<style scoped>\n",
       "    .dataframe tbody tr th:only-of-type {\n",
       "        vertical-align: middle;\n",
       "    }\n",
       "\n",
       "    .dataframe tbody tr th {\n",
       "        vertical-align: top;\n",
       "    }\n",
       "\n",
       "    .dataframe thead th {\n",
       "        text-align: right;\n",
       "    }\n",
       "</style>\n",
       "<table border=\"1\" class=\"dataframe\">\n",
       "  <thead>\n",
       "    <tr style=\"text-align: right;\">\n",
       "      <th></th>\n",
       "      <th>TV</th>\n",
       "      <th>Radio</th>\n",
       "      <th>Newspaper</th>\n",
       "    </tr>\n",
       "  </thead>\n",
       "  <tbody>\n",
       "    <tr>\n",
       "      <th>0</th>\n",
       "      <td>230.1</td>\n",
       "      <td>37.8</td>\n",
       "      <td>69.2</td>\n",
       "    </tr>\n",
       "    <tr>\n",
       "      <th>1</th>\n",
       "      <td>44.5</td>\n",
       "      <td>39.3</td>\n",
       "      <td>45.1</td>\n",
       "    </tr>\n",
       "    <tr>\n",
       "      <th>2</th>\n",
       "      <td>17.2</td>\n",
       "      <td>45.9</td>\n",
       "      <td>69.3</td>\n",
       "    </tr>\n",
       "    <tr>\n",
       "      <th>3</th>\n",
       "      <td>151.5</td>\n",
       "      <td>41.3</td>\n",
       "      <td>58.5</td>\n",
       "    </tr>\n",
       "    <tr>\n",
       "      <th>4</th>\n",
       "      <td>180.8</td>\n",
       "      <td>10.8</td>\n",
       "      <td>58.4</td>\n",
       "    </tr>\n",
       "  </tbody>\n",
       "</table>\n",
       "</div>"
      ],
      "text/plain": [
       "      TV  Radio  Newspaper\n",
       "0  230.1   37.8       69.2\n",
       "1   44.5   39.3       45.1\n",
       "2   17.2   45.9       69.3\n",
       "3  151.5   41.3       58.5\n",
       "4  180.8   10.8       58.4"
      ]
     },
     "execution_count": 18,
     "metadata": {},
     "output_type": "execute_result"
    }
   ],
   "source": [
    "X.head()"
   ]
  },
  {
   "cell_type": "code",
   "execution_count": 19,
   "id": "984145eb",
   "metadata": {
    "execution": {
     "iopub.execute_input": "2024-01-20T05:44:25.414443Z",
     "iopub.status.busy": "2024-01-20T05:44:25.413981Z",
     "iopub.status.idle": "2024-01-20T05:44:25.422598Z",
     "shell.execute_reply": "2024-01-20T05:44:25.421040Z"
    },
    "papermill": {
     "duration": 0.030835,
     "end_time": "2024-01-20T05:44:25.425237",
     "exception": false,
     "start_time": "2024-01-20T05:44:25.394402",
     "status": "completed"
    },
    "tags": []
   },
   "outputs": [
    {
     "name": "stdout",
     "output_type": "stream",
     "text": [
      "X_train Shape: (158, 3)\n",
      "X_test Shape: (40, 3)\n"
     ]
    }
   ],
   "source": [
    "# Train Test Split\n",
    "X_train, X_test, y_train, y_test = train_test_split(X, y, test_size=0.20)\n",
    "\n",
    "print(\"X_train Shape:\", X_train.shape)\n",
    "print(\"X_test Shape:\", X_test.shape)"
   ]
  },
  {
   "cell_type": "markdown",
   "id": "305ca939",
   "metadata": {
    "papermill": {
     "duration": 0.017683,
     "end_time": "2024-01-20T05:44:25.461016",
     "exception": false,
     "start_time": "2024-01-20T05:44:25.443333",
     "status": "completed"
    },
    "tags": []
   },
   "source": [
    "# Linear Regression Model"
   ]
  },
  {
   "cell_type": "code",
   "execution_count": 20,
   "id": "dfc02878",
   "metadata": {
    "execution": {
     "iopub.execute_input": "2024-01-20T05:44:25.499770Z",
     "iopub.status.busy": "2024-01-20T05:44:25.498910Z",
     "iopub.status.idle": "2024-01-20T05:44:25.535617Z",
     "shell.execute_reply": "2024-01-20T05:44:25.534657Z"
    },
    "papermill": {
     "duration": 0.058933,
     "end_time": "2024-01-20T05:44:25.538078",
     "exception": false,
     "start_time": "2024-01-20T05:44:25.479145",
     "status": "completed"
    },
    "tags": []
   },
   "outputs": [
    {
     "data": {
      "text/html": [
       "<style>#sk-container-id-1 {color: black;background-color: white;}#sk-container-id-1 pre{padding: 0;}#sk-container-id-1 div.sk-toggleable {background-color: white;}#sk-container-id-1 label.sk-toggleable__label {cursor: pointer;display: block;width: 100%;margin-bottom: 0;padding: 0.3em;box-sizing: border-box;text-align: center;}#sk-container-id-1 label.sk-toggleable__label-arrow:before {content: \"▸\";float: left;margin-right: 0.25em;color: #696969;}#sk-container-id-1 label.sk-toggleable__label-arrow:hover:before {color: black;}#sk-container-id-1 div.sk-estimator:hover label.sk-toggleable__label-arrow:before {color: black;}#sk-container-id-1 div.sk-toggleable__content {max-height: 0;max-width: 0;overflow: hidden;text-align: left;background-color: #f0f8ff;}#sk-container-id-1 div.sk-toggleable__content pre {margin: 0.2em;color: black;border-radius: 0.25em;background-color: #f0f8ff;}#sk-container-id-1 input.sk-toggleable__control:checked~div.sk-toggleable__content {max-height: 200px;max-width: 100%;overflow: auto;}#sk-container-id-1 input.sk-toggleable__control:checked~label.sk-toggleable__label-arrow:before {content: \"▾\";}#sk-container-id-1 div.sk-estimator input.sk-toggleable__control:checked~label.sk-toggleable__label {background-color: #d4ebff;}#sk-container-id-1 div.sk-label input.sk-toggleable__control:checked~label.sk-toggleable__label {background-color: #d4ebff;}#sk-container-id-1 input.sk-hidden--visually {border: 0;clip: rect(1px 1px 1px 1px);clip: rect(1px, 1px, 1px, 1px);height: 1px;margin: -1px;overflow: hidden;padding: 0;position: absolute;width: 1px;}#sk-container-id-1 div.sk-estimator {font-family: monospace;background-color: #f0f8ff;border: 1px dotted black;border-radius: 0.25em;box-sizing: border-box;margin-bottom: 0.5em;}#sk-container-id-1 div.sk-estimator:hover {background-color: #d4ebff;}#sk-container-id-1 div.sk-parallel-item::after {content: \"\";width: 100%;border-bottom: 1px solid gray;flex-grow: 1;}#sk-container-id-1 div.sk-label:hover label.sk-toggleable__label {background-color: #d4ebff;}#sk-container-id-1 div.sk-serial::before {content: \"\";position: absolute;border-left: 1px solid gray;box-sizing: border-box;top: 0;bottom: 0;left: 50%;z-index: 0;}#sk-container-id-1 div.sk-serial {display: flex;flex-direction: column;align-items: center;background-color: white;padding-right: 0.2em;padding-left: 0.2em;position: relative;}#sk-container-id-1 div.sk-item {position: relative;z-index: 1;}#sk-container-id-1 div.sk-parallel {display: flex;align-items: stretch;justify-content: center;background-color: white;position: relative;}#sk-container-id-1 div.sk-item::before, #sk-container-id-1 div.sk-parallel-item::before {content: \"\";position: absolute;border-left: 1px solid gray;box-sizing: border-box;top: 0;bottom: 0;left: 50%;z-index: -1;}#sk-container-id-1 div.sk-parallel-item {display: flex;flex-direction: column;z-index: 1;position: relative;background-color: white;}#sk-container-id-1 div.sk-parallel-item:first-child::after {align-self: flex-end;width: 50%;}#sk-container-id-1 div.sk-parallel-item:last-child::after {align-self: flex-start;width: 50%;}#sk-container-id-1 div.sk-parallel-item:only-child::after {width: 0;}#sk-container-id-1 div.sk-dashed-wrapped {border: 1px dashed gray;margin: 0 0.4em 0.5em 0.4em;box-sizing: border-box;padding-bottom: 0.4em;background-color: white;}#sk-container-id-1 div.sk-label label {font-family: monospace;font-weight: bold;display: inline-block;line-height: 1.2em;}#sk-container-id-1 div.sk-label-container {text-align: center;}#sk-container-id-1 div.sk-container {/* jupyter's `normalize.less` sets `[hidden] { display: none; }` but bootstrap.min.css set `[hidden] { display: none !important; }` so we also need the `!important` here to be able to override the default hidden behavior on the sphinx rendered scikit-learn.org. See: https://github.com/scikit-learn/scikit-learn/issues/21755 */display: inline-block !important;position: relative;}#sk-container-id-1 div.sk-text-repr-fallback {display: none;}</style><div id=\"sk-container-id-1\" class=\"sk-top-container\"><div class=\"sk-text-repr-fallback\"><pre>LinearRegression()</pre><b>In a Jupyter environment, please rerun this cell to show the HTML representation or trust the notebook. <br />On GitHub, the HTML representation is unable to render, please try loading this page with nbviewer.org.</b></div><div class=\"sk-container\" hidden><div class=\"sk-item\"><div class=\"sk-estimator sk-toggleable\"><input class=\"sk-toggleable__control sk-hidden--visually\" id=\"sk-estimator-id-1\" type=\"checkbox\" checked><label for=\"sk-estimator-id-1\" class=\"sk-toggleable__label sk-toggleable__label-arrow\">LinearRegression</label><div class=\"sk-toggleable__content\"><pre>LinearRegression()</pre></div></div></div></div></div>"
      ],
      "text/plain": [
       "LinearRegression()"
      ]
     },
     "execution_count": 20,
     "metadata": {},
     "output_type": "execute_result"
    }
   ],
   "source": [
    "linear_model = LinearRegression()\n",
    "linear_model.fit(X_train, y_train)"
   ]
  },
  {
   "cell_type": "code",
   "execution_count": 21,
   "id": "a5779d57",
   "metadata": {
    "execution": {
     "iopub.execute_input": "2024-01-20T05:44:25.578262Z",
     "iopub.status.busy": "2024-01-20T05:44:25.577037Z",
     "iopub.status.idle": "2024-01-20T05:44:25.583817Z",
     "shell.execute_reply": "2024-01-20T05:44:25.582944Z"
    },
    "papermill": {
     "duration": 0.029363,
     "end_time": "2024-01-20T05:44:25.586371",
     "exception": false,
     "start_time": "2024-01-20T05:44:25.557008",
     "status": "completed"
    },
    "tags": []
   },
   "outputs": [],
   "source": [
    "y_pred = linear_model.predict(X_test)"
   ]
  },
  {
   "cell_type": "code",
   "execution_count": 22,
   "id": "7e747c8d",
   "metadata": {
    "execution": {
     "iopub.execute_input": "2024-01-20T05:44:25.628477Z",
     "iopub.status.busy": "2024-01-20T05:44:25.627702Z",
     "iopub.status.idle": "2024-01-20T05:44:25.635847Z",
     "shell.execute_reply": "2024-01-20T05:44:25.634471Z"
    },
    "papermill": {
     "duration": 0.03226,
     "end_time": "2024-01-20T05:44:25.638653",
     "exception": false,
     "start_time": "2024-01-20T05:44:25.606393",
     "status": "completed"
    },
    "tags": []
   },
   "outputs": [
    {
     "name": "stdout",
     "output_type": "stream",
     "text": [
      "Mean Squared Error: 2.7874439327296705\n",
      "R2 Score: 0.8683630769194961\n"
     ]
    }
   ],
   "source": [
    "# Model Evaluation\n",
    "\n",
    "mse = mean_squared_error(y_test, y_pred)\n",
    "r2 = r2_score(y_test, y_pred)\n",
    "\n",
    "print(\"Mean Squared Error:\", mse)\n",
    "print(\"R2 Score:\", r2)"
   ]
  },
  {
   "cell_type": "markdown",
   "id": "9bc1f31d",
   "metadata": {
    "papermill": {
     "duration": 0.018841,
     "end_time": "2024-01-20T05:44:25.676600",
     "exception": false,
     "start_time": "2024-01-20T05:44:25.657759",
     "status": "completed"
    },
    "tags": []
   },
   "source": [
    "Lower MSE indicates better model performance. <br/>\n",
    "Higher value of R2 indicating a better fit of the model."
   ]
  },
  {
   "cell_type": "markdown",
   "id": "e78358ba",
   "metadata": {
    "papermill": {
     "duration": 0.018869,
     "end_time": "2024-01-20T05:44:25.714655",
     "exception": false,
     "start_time": "2024-01-20T05:44:25.695786",
     "status": "completed"
    },
    "tags": []
   },
   "source": [
    "# XGBoost Regressor"
   ]
  },
  {
   "cell_type": "markdown",
   "id": "80e83db0",
   "metadata": {
    "papermill": {
     "duration": 0.018688,
     "end_time": "2024-01-20T05:44:25.753019",
     "exception": false,
     "start_time": "2024-01-20T05:44:25.734331",
     "status": "completed"
    },
    "tags": []
   },
   "source": [
    "### Using GridSearchCV to find the best parameters."
   ]
  },
  {
   "cell_type": "code",
   "execution_count": 23,
   "id": "5814f670",
   "metadata": {
    "execution": {
     "iopub.execute_input": "2024-01-20T05:44:25.794208Z",
     "iopub.status.busy": "2024-01-20T05:44:25.793763Z",
     "iopub.status.idle": "2024-01-20T05:44:39.206461Z",
     "shell.execute_reply": "2024-01-20T05:44:39.205272Z"
    },
    "papermill": {
     "duration": 13.436548,
     "end_time": "2024-01-20T05:44:39.208983",
     "exception": false,
     "start_time": "2024-01-20T05:44:25.772435",
     "status": "completed"
    },
    "tags": []
   },
   "outputs": [
    {
     "name": "stdout",
     "output_type": "stream",
     "text": [
      "Best Params: {'gamma': 0.1, 'learning_rate': 0.2, 'max_depth': 7, 'n_estimators': 40}\n"
     ]
    },
    {
     "data": {
      "text/html": [
       "<div>\n",
       "<style scoped>\n",
       "    .dataframe tbody tr th:only-of-type {\n",
       "        vertical-align: middle;\n",
       "    }\n",
       "\n",
       "    .dataframe tbody tr th {\n",
       "        vertical-align: top;\n",
       "    }\n",
       "\n",
       "    .dataframe thead th {\n",
       "        text-align: right;\n",
       "    }\n",
       "</style>\n",
       "<table border=\"1\" class=\"dataframe\">\n",
       "  <thead>\n",
       "    <tr style=\"text-align: right;\">\n",
       "      <th></th>\n",
       "      <th>param_gamma</th>\n",
       "      <th>param_learning_rate</th>\n",
       "      <th>param_max_depth</th>\n",
       "      <th>param_n_estimators</th>\n",
       "      <th>params</th>\n",
       "      <th>rank_test_score</th>\n",
       "    </tr>\n",
       "  </thead>\n",
       "  <tbody>\n",
       "    <tr>\n",
       "      <th>40</th>\n",
       "      <td>0.1</td>\n",
       "      <td>0.2</td>\n",
       "      <td>7</td>\n",
       "      <td>40</td>\n",
       "      <td>{'gamma': 0.1, 'learning_rate': 0.2, 'max_dept...</td>\n",
       "      <td>1</td>\n",
       "    </tr>\n",
       "    <tr>\n",
       "      <th>41</th>\n",
       "      <td>0.1</td>\n",
       "      <td>0.2</td>\n",
       "      <td>7</td>\n",
       "      <td>50</td>\n",
       "      <td>{'gamma': 0.1, 'learning_rate': 0.2, 'max_dept...</td>\n",
       "      <td>2</td>\n",
       "    </tr>\n",
       "    <tr>\n",
       "      <th>39</th>\n",
       "      <td>0.1</td>\n",
       "      <td>0.2</td>\n",
       "      <td>7</td>\n",
       "      <td>30</td>\n",
       "      <td>{'gamma': 0.1, 'learning_rate': 0.2, 'max_dept...</td>\n",
       "      <td>3</td>\n",
       "    </tr>\n",
       "    <tr>\n",
       "      <th>14</th>\n",
       "      <td>0.01</td>\n",
       "      <td>0.2</td>\n",
       "      <td>7</td>\n",
       "      <td>50</td>\n",
       "      <td>{'gamma': 0.01, 'learning_rate': 0.2, 'max_dep...</td>\n",
       "      <td>4</td>\n",
       "    </tr>\n",
       "    <tr>\n",
       "      <th>11</th>\n",
       "      <td>0.01</td>\n",
       "      <td>0.2</td>\n",
       "      <td>6</td>\n",
       "      <td>50</td>\n",
       "      <td>{'gamma': 0.01, 'learning_rate': 0.2, 'max_dep...</td>\n",
       "      <td>5</td>\n",
       "    </tr>\n",
       "    <tr>\n",
       "      <th>...</th>\n",
       "      <td>...</td>\n",
       "      <td>...</td>\n",
       "      <td>...</td>\n",
       "      <td>...</td>\n",
       "      <td>...</td>\n",
       "      <td>...</td>\n",
       "    </tr>\n",
       "    <tr>\n",
       "      <th>3</th>\n",
       "      <td>0.01</td>\n",
       "      <td>0.1</td>\n",
       "      <td>7</td>\n",
       "      <td>30</td>\n",
       "      <td>{'gamma': 0.01, 'learning_rate': 0.1, 'max_dep...</td>\n",
       "      <td>77</td>\n",
       "    </tr>\n",
       "    <tr>\n",
       "      <th>57</th>\n",
       "      <td>0.5</td>\n",
       "      <td>0.1</td>\n",
       "      <td>7</td>\n",
       "      <td>30</td>\n",
       "      <td>{'gamma': 0.5, 'learning_rate': 0.1, 'max_dept...</td>\n",
       "      <td>78</td>\n",
       "    </tr>\n",
       "    <tr>\n",
       "      <th>33</th>\n",
       "      <td>0.1</td>\n",
       "      <td>0.1</td>\n",
       "      <td>8</td>\n",
       "      <td>30</td>\n",
       "      <td>{'gamma': 0.1, 'learning_rate': 0.1, 'max_dept...</td>\n",
       "      <td>79</td>\n",
       "    </tr>\n",
       "    <tr>\n",
       "      <th>0</th>\n",
       "      <td>0.01</td>\n",
       "      <td>0.1</td>\n",
       "      <td>6</td>\n",
       "      <td>30</td>\n",
       "      <td>{'gamma': 0.01, 'learning_rate': 0.1, 'max_dep...</td>\n",
       "      <td>80</td>\n",
       "    </tr>\n",
       "    <tr>\n",
       "      <th>6</th>\n",
       "      <td>0.01</td>\n",
       "      <td>0.1</td>\n",
       "      <td>8</td>\n",
       "      <td>30</td>\n",
       "      <td>{'gamma': 0.01, 'learning_rate': 0.1, 'max_dep...</td>\n",
       "      <td>81</td>\n",
       "    </tr>\n",
       "  </tbody>\n",
       "</table>\n",
       "<p>81 rows × 6 columns</p>\n",
       "</div>"
      ],
      "text/plain": [
       "   param_gamma param_learning_rate param_max_depth param_n_estimators  \\\n",
       "40         0.1                 0.2               7                 40   \n",
       "41         0.1                 0.2               7                 50   \n",
       "39         0.1                 0.2               7                 30   \n",
       "14        0.01                 0.2               7                 50   \n",
       "11        0.01                 0.2               6                 50   \n",
       "..         ...                 ...             ...                ...   \n",
       "3         0.01                 0.1               7                 30   \n",
       "57         0.5                 0.1               7                 30   \n",
       "33         0.1                 0.1               8                 30   \n",
       "0         0.01                 0.1               6                 30   \n",
       "6         0.01                 0.1               8                 30   \n",
       "\n",
       "                                               params  rank_test_score  \n",
       "40  {'gamma': 0.1, 'learning_rate': 0.2, 'max_dept...                1  \n",
       "41  {'gamma': 0.1, 'learning_rate': 0.2, 'max_dept...                2  \n",
       "39  {'gamma': 0.1, 'learning_rate': 0.2, 'max_dept...                3  \n",
       "14  {'gamma': 0.01, 'learning_rate': 0.2, 'max_dep...                4  \n",
       "11  {'gamma': 0.01, 'learning_rate': 0.2, 'max_dep...                5  \n",
       "..                                                ...              ...  \n",
       "3   {'gamma': 0.01, 'learning_rate': 0.1, 'max_dep...               77  \n",
       "57  {'gamma': 0.5, 'learning_rate': 0.1, 'max_dept...               78  \n",
       "33  {'gamma': 0.1, 'learning_rate': 0.1, 'max_dept...               79  \n",
       "0   {'gamma': 0.01, 'learning_rate': 0.1, 'max_dep...               80  \n",
       "6   {'gamma': 0.01, 'learning_rate': 0.1, 'max_dep...               81  \n",
       "\n",
       "[81 rows x 6 columns]"
      ]
     },
     "execution_count": 23,
     "metadata": {},
     "output_type": "execute_result"
    }
   ],
   "source": [
    "n_estimators = [ 30, 40, 50]\n",
    "learning_rate = [0.1, 0.2, 0.3]\n",
    "max_depth = [ 6, 7, 8]\n",
    "gamma = [0.01, 0.1, 0.5]\n",
    "\n",
    "clf = GridSearchCV(XGBRegressor(), {\n",
    "        'n_estimators': n_estimators,\n",
    "        'learning_rate': learning_rate,\n",
    "        'max_depth': max_depth,\n",
    "        'gamma': gamma\n",
    "    },\n",
    "    cv=5,\n",
    "    return_train_score=False\n",
    ")\n",
    "\n",
    "clf.fit(X, y)\n",
    "clf_results = pd.DataFrame(clf.cv_results_)\n",
    "print(\"Best Params:\", clf.best_params_)\n",
    "\n",
    "clf_results.sort_values(by=\"rank_test_score\", inplace=True)\n",
    "clf_results[['param_gamma', 'param_learning_rate', 'param_max_depth', 'param_n_estimators', 'params', 'rank_test_score']]"
   ]
  },
  {
   "cell_type": "code",
   "execution_count": 24,
   "id": "d87dde83",
   "metadata": {
    "execution": {
     "iopub.execute_input": "2024-01-20T05:44:39.250677Z",
     "iopub.status.busy": "2024-01-20T05:44:39.250236Z",
     "iopub.status.idle": "2024-01-20T05:44:39.298443Z",
     "shell.execute_reply": "2024-01-20T05:44:39.297246Z"
    },
    "papermill": {
     "duration": 0.072984,
     "end_time": "2024-01-20T05:44:39.302208",
     "exception": false,
     "start_time": "2024-01-20T05:44:39.229224",
     "status": "completed"
    },
    "tags": []
   },
   "outputs": [
    {
     "name": "stdout",
     "output_type": "stream",
     "text": [
      "Mean Squared Error: 1.185777081564414\n",
      "R2 Score: 0.9440017269428403\n"
     ]
    }
   ],
   "source": [
    "xgb_model = XGBRegressor(gamma= 0.1, learning_rate= 0.2, max_depth= 7, n_estimators= 40)\n",
    "xgb_model.fit(X_train, y_train)\n",
    "y_pred = xgb_model.predict(X_test)\n",
    "\n",
    "mse = mean_squared_error(y_test, y_pred)\n",
    "r2 = r2_score(y_test, y_pred)\n",
    "\n",
    "print(\"Mean Squared Error:\", mse)\n",
    "print(\"R2 Score:\", r2)"
   ]
  },
  {
   "cell_type": "markdown",
   "id": "43d5034a",
   "metadata": {
    "papermill": {
     "duration": 0.019186,
     "end_time": "2024-01-20T05:44:39.342044",
     "exception": false,
     "start_time": "2024-01-20T05:44:39.322858",
     "status": "completed"
    },
    "tags": []
   },
   "source": [
    "**Comment:** XGBoost Mean Squared Error is lower then the Regression Model. So XGBRegressor is the best model."
   ]
  },
  {
   "cell_type": "markdown",
   "id": "18d32022",
   "metadata": {
    "papermill": {
     "duration": 0.019783,
     "end_time": "2024-01-20T05:44:39.381583",
     "exception": false,
     "start_time": "2024-01-20T05:44:39.361800",
     "status": "completed"
    },
    "tags": []
   },
   "source": [
    "# Prediction Sales using XGBoost"
   ]
  },
  {
   "cell_type": "code",
   "execution_count": 25,
   "id": "15fedbe7",
   "metadata": {
    "execution": {
     "iopub.execute_input": "2024-01-20T05:44:39.425058Z",
     "iopub.status.busy": "2024-01-20T05:44:39.423974Z",
     "iopub.status.idle": "2024-01-20T05:44:39.438460Z",
     "shell.execute_reply": "2024-01-20T05:44:39.437480Z"
    },
    "papermill": {
     "duration": 0.039461,
     "end_time": "2024-01-20T05:44:39.440869",
     "exception": false,
     "start_time": "2024-01-20T05:44:39.401408",
     "status": "completed"
    },
    "tags": []
   },
   "outputs": [
    {
     "data": {
      "text/html": [
       "<div>\n",
       "<style scoped>\n",
       "    .dataframe tbody tr th:only-of-type {\n",
       "        vertical-align: middle;\n",
       "    }\n",
       "\n",
       "    .dataframe tbody tr th {\n",
       "        vertical-align: top;\n",
       "    }\n",
       "\n",
       "    .dataframe thead th {\n",
       "        text-align: right;\n",
       "    }\n",
       "</style>\n",
       "<table border=\"1\" class=\"dataframe\">\n",
       "  <thead>\n",
       "    <tr style=\"text-align: right;\">\n",
       "      <th></th>\n",
       "      <th>TV</th>\n",
       "      <th>Radio</th>\n",
       "      <th>Newspaper</th>\n",
       "      <th>Sales</th>\n",
       "    </tr>\n",
       "  </thead>\n",
       "  <tbody>\n",
       "    <tr>\n",
       "      <th>78</th>\n",
       "      <td>5.4</td>\n",
       "      <td>29.9</td>\n",
       "      <td>9.4</td>\n",
       "      <td>5.3</td>\n",
       "    </tr>\n",
       "    <tr>\n",
       "      <th>57</th>\n",
       "      <td>136.2</td>\n",
       "      <td>19.2</td>\n",
       "      <td>16.6</td>\n",
       "      <td>13.2</td>\n",
       "    </tr>\n",
       "    <tr>\n",
       "      <th>134</th>\n",
       "      <td>36.9</td>\n",
       "      <td>38.6</td>\n",
       "      <td>65.6</td>\n",
       "      <td>10.8</td>\n",
       "    </tr>\n",
       "    <tr>\n",
       "      <th>62</th>\n",
       "      <td>239.3</td>\n",
       "      <td>15.5</td>\n",
       "      <td>27.3</td>\n",
       "      <td>20.7</td>\n",
       "    </tr>\n",
       "    <tr>\n",
       "      <th>196</th>\n",
       "      <td>94.2</td>\n",
       "      <td>4.9</td>\n",
       "      <td>8.1</td>\n",
       "      <td>14.0</td>\n",
       "    </tr>\n",
       "  </tbody>\n",
       "</table>\n",
       "</div>"
      ],
      "text/plain": [
       "        TV  Radio  Newspaper  Sales\n",
       "78     5.4   29.9        9.4    5.3\n",
       "57   136.2   19.2       16.6   13.2\n",
       "134   36.9   38.6       65.6   10.8\n",
       "62   239.3   15.5       27.3   20.7\n",
       "196   94.2    4.9        8.1   14.0"
      ]
     },
     "execution_count": 25,
     "metadata": {},
     "output_type": "execute_result"
    }
   ],
   "source": [
    "df.sample(5)"
   ]
  },
  {
   "cell_type": "code",
   "execution_count": 26,
   "id": "acdbf413",
   "metadata": {
    "execution": {
     "iopub.execute_input": "2024-01-20T05:44:39.482985Z",
     "iopub.status.busy": "2024-01-20T05:44:39.482240Z",
     "iopub.status.idle": "2024-01-20T05:44:39.495324Z",
     "shell.execute_reply": "2024-01-20T05:44:39.494322Z"
    },
    "papermill": {
     "duration": 0.037646,
     "end_time": "2024-01-20T05:44:39.498325",
     "exception": false,
     "start_time": "2024-01-20T05:44:39.460679",
     "status": "completed"
    },
    "tags": []
   },
   "outputs": [
    {
     "name": "stdout",
     "output_type": "stream",
     "text": [
      "Prediction Sales: 19.391602\n"
     ]
    }
   ],
   "source": [
    "features_data = {\n",
    "    \"TV\": [239],\n",
    "    \"Radio\": [15],\n",
    "    \"Newspaper\": [27]\n",
    "}\n",
    "\n",
    "sales_pred = xgb_model.predict(pd.DataFrame(features_data))\n",
    "print(\"Prediction Sales:\", sales_pred[0])"
   ]
  }
 ],
 "metadata": {
  "kaggle": {
   "accelerator": "none",
   "dataSources": [
    {
     "datasetId": 133357,
     "sourceId": 317184,
     "sourceType": "datasetVersion"
    }
   ],
   "dockerImageVersionId": 30635,
   "isGpuEnabled": false,
   "isInternetEnabled": true,
   "language": "python",
   "sourceType": "notebook"
  },
  "kernelspec": {
   "display_name": "Python 3",
   "language": "python",
   "name": "python3"
  },
  "language_info": {
   "codemirror_mode": {
    "name": "ipython",
    "version": 3
   },
   "file_extension": ".py",
   "mimetype": "text/x-python",
   "name": "python",
   "nbconvert_exporter": "python",
   "pygments_lexer": "ipython3",
   "version": "3.10.12"
  },
  "papermill": {
   "default_parameters": {},
   "duration": 28.986228,
   "end_time": "2024-01-20T05:44:40.343619",
   "environment_variables": {},
   "exception": null,
   "input_path": "__notebook__.ipynb",
   "output_path": "__notebook__.ipynb",
   "parameters": {},
   "start_time": "2024-01-20T05:44:11.357391",
   "version": "2.4.0"
  }
 },
 "nbformat": 4,
 "nbformat_minor": 5
}
