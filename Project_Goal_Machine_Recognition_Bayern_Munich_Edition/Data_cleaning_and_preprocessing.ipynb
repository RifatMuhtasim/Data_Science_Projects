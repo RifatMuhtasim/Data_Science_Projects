{
 "cells": [
  {
   "cell_type": "markdown",
   "metadata": {},
   "source": [
    "# Content"
   ]
  },
  {
   "cell_type": "code",
   "execution_count": 10,
   "metadata": {},
   "outputs": [],
   "source": [
    "import pandas as pd\n",
    "import numpy as np\n",
    "import matplotlib.pyplot as plt\n",
    "import cv2\n",
    "import os\n",
    "import pywt"
   ]
  },
  {
   "cell_type": "markdown",
   "metadata": {},
   "source": [
    "## Cropped Images after detecting 2 eyes"
   ]
  },
  {
   "cell_type": "code",
   "execution_count": 11,
   "metadata": {},
   "outputs": [],
   "source": [
    "image_file_path = \"./Images_dataset/\"\n",
    "cropped_img_file_path = \"./Images_dataset/Cropped_Images/\""
   ]
  },
  {
   "cell_type": "code",
   "execution_count": 12,
   "metadata": {},
   "outputs": [],
   "source": [
    "face_cascade = cv2.CascadeClassifier(\"./opencv/haarcascades/haarcascade_frontalface_default.xml\")\n",
    "eye_cascade= cv2.CascadeClassifier(\"./opencv/haarcascades/haarcascade_eye.xml\")\n",
    "\n",
    "def Get_crop_image_when_detect_2_eyes(file_path):\n",
    "    img = cv2.imread(file_path)\n",
    "    gray_img = cv2.cvtColor(img,  cv2.COLOR_RGB2GRAY)\n",
    "    faces = face_cascade.detectMultiScale(gray_img, 1.3, 5)\n",
    "    for (x, y, w, h) in faces:\n",
    "        roi_color = img[y:y+h, x:x+w]\n",
    "        roi_gray = gray_img[y:y+h, x:x+w]\n",
    "        eyes = eye_cascade.detectMultiScale(roi_gray)\n",
    "        if len(eyes) >= 2:\n",
    "            return roi_color"
   ]
  },
  {
   "cell_type": "code",
   "execution_count": 13,
   "metadata": {},
   "outputs": [
    {
     "data": {
      "text/plain": [
       "['./Images_dataset/Leon_Goretzka',\n",
       " './Images_dataset/Bryan_Zaragoza',\n",
       " './Images_dataset/Raphael_Guerrerio',\n",
       " './Images_dataset/Serge_Gnabry',\n",
       " './Images_dataset/Bouna_Sarr',\n",
       " './Images_dataset/Alphonso_Davies',\n",
       " './Images_dataset/Dayot_Upamechano',\n",
       " './Images_dataset/Noussair_Mazraoui',\n",
       " './Images_dataset/Sacha_Boey',\n",
       " './Images_dataset/Minjae_Kim',\n",
       " './Images_dataset/Leroy_Sane',\n",
       " './Images_dataset/Thomas_Muller',\n",
       " './Images_dataset/Cropped_Images',\n",
       " './Images_dataset/Eric_Dier',\n",
       " './Images_dataset/Joshua_Kimmich',\n",
       " './Images_dataset/Harry_Kane',\n",
       " './Images_dataset/Kingsley_Coman',\n",
       " './Images_dataset/Jamal_Musiala',\n",
       " './Images_dataset/Tarek_Buchmann',\n",
       " './Images_dataset/Daniel_Peretz',\n",
       " './Images_dataset/Cropped_Images2',\n",
       " './Images_dataset/Manuel_Neuer',\n",
       " './Images_dataset/Aleksandar_Pavlovic',\n",
       " './Images_dataset/Mathys_Tel',\n",
       " './Images_dataset/Konrad_Laimer',\n",
       " './Images_dataset/Matthijs_De_Ligt',\n",
       " './Images_dataset/Eric_Maxim_Choupo_Moting',\n",
       " './Images_dataset/Sven_Ulreich']"
      ]
     },
     "execution_count": 13,
     "metadata": {},
     "output_type": "execute_result"
    }
   ],
   "source": [
    "import os\n",
    "img_dirs = []\n",
    "\n",
    "for entry in os.scandir(image_file_path):\n",
    "    if entry.is_dir():\n",
    "        img_dirs.append(entry.path)\n",
    "    \n",
    "img_dirs"
   ]
  },
  {
   "cell_type": "code",
   "execution_count": 14,
   "metadata": {},
   "outputs": [],
   "source": [
    "import shutil\n",
    "if os.path.exists(cropped_img_file_path):\n",
    "    shutil.rmtree(cropped_img_file_path)\n",
    "os.mkdir(cropped_img_file_path)"
   ]
  },
  {
   "cell_type": "code",
   "execution_count": 15,
   "metadata": {},
   "outputs": [
    {
     "name": "stdout",
     "output_type": "stream",
     "text": [
      "Palyers Name: Leon_Goretzka\n",
      "Generating Cropped Image in Folder:  ./Images_dataset/Cropped_Images2/Leon_Goretzka\n",
      "Palyers Name: Bryan_Zaragoza\n",
      "Generating Cropped Image in Folder:  ./Images_dataset/Cropped_Images2/Bryan_Zaragoza\n",
      "Palyers Name: Raphael_Guerrerio\n",
      "Generating Cropped Image in Folder:  ./Images_dataset/Cropped_Images2/Raphael_Guerrerio\n",
      "Error: 60\n",
      "Palyers Name: Serge_Gnabry\n",
      "Generating Cropped Image in Folder:  ./Images_dataset/Cropped_Images2/Serge_Gnabry\n",
      "Palyers Name: Bouna_Sarr\n",
      "Generating Cropped Image in Folder:  ./Images_dataset/Cropped_Images2/Bouna_Sarr\n",
      "Error: 32\n",
      "Error: 39\n",
      "Error: 50\n",
      "Error: 71\n",
      "Error: 102\n",
      "Error: 108\n",
      "Palyers Name: Alphonso_Davies\n",
      "Generating Cropped Image in Folder:  ./Images_dataset/Cropped_Images2/Alphonso_Davies\n",
      "Palyers Name: Dayot_Upamechano\n",
      "Generating Cropped Image in Folder:  ./Images_dataset/Cropped_Images2/Dayot_Upamechano\n",
      "Palyers Name: Noussair_Mazraoui\n",
      "Generating Cropped Image in Folder:  ./Images_dataset/Cropped_Images2/Noussair_Mazraoui\n",
      "Palyers Name: Sacha_Boey\n",
      "Generating Cropped Image in Folder:  ./Images_dataset/Cropped_Images2/Sacha_Boey\n"
     ]
    },
    {
     "name": "stderr",
     "output_type": "stream",
     "text": [
      "Corrupt JPEG data: 38 extraneous bytes before marker 0xc0\n"
     ]
    },
    {
     "name": "stdout",
     "output_type": "stream",
     "text": [
      "Palyers Name: Minjae_Kim\n",
      "Generating Cropped Image in Folder:  ./Images_dataset/Cropped_Images2/Minjae_Kim\n",
      "Palyers Name: Leroy_Sane\n",
      "Generating Cropped Image in Folder:  ./Images_dataset/Cropped_Images2/Leroy_Sane\n",
      "Palyers Name: Thomas_Muller\n",
      "Generating Cropped Image in Folder:  ./Images_dataset/Cropped_Images2/Thomas_Muller\n",
      "Palyers Name: Cropped_Images\n",
      "Palyers Name: Eric_Dier\n",
      "Generating Cropped Image in Folder:  ./Images_dataset/Cropped_Images2/Eric_Dier\n",
      "Palyers Name: Joshua_Kimmich\n",
      "Generating Cropped Image in Folder:  ./Images_dataset/Cropped_Images2/Joshua_Kimmich\n",
      "Error: 11\n",
      "Palyers Name: Harry_Kane\n",
      "Generating Cropped Image in Folder:  ./Images_dataset/Cropped_Images2/Harry_Kane\n",
      "Palyers Name: Kingsley_Coman\n",
      "Generating Cropped Image in Folder:  ./Images_dataset/Cropped_Images2/Kingsley_Coman\n",
      "Palyers Name: Jamal_Musiala\n",
      "Generating Cropped Image in Folder:  ./Images_dataset/Cropped_Images2/Jamal_Musiala\n",
      "Palyers Name: Tarek_Buchmann\n",
      "Generating Cropped Image in Folder:  ./Images_dataset/Cropped_Images2/Tarek_Buchmann\n",
      "Palyers Name: Daniel_Peretz\n",
      "Generating Cropped Image in Folder:  ./Images_dataset/Cropped_Images2/Daniel_Peretz\n",
      "Palyers Name: Cropped_Images2\n",
      "Error: 1\n",
      "Error: 1\n",
      "Error: 1\n",
      "Error: 1\n",
      "Error: 1\n",
      "Error: 1\n",
      "Error: 1\n",
      "Error: 1\n",
      "Error: 1\n",
      "Error: 1\n",
      "Error: 1\n",
      "Error: 1\n",
      "Error: 1\n",
      "Error: 1\n",
      "Error: 1\n",
      "Error: 1\n",
      "Error: 1\n",
      "Error: 1\n",
      "Error: 1\n",
      "Palyers Name: Manuel_Neuer\n",
      "Generating Cropped Image in Folder:  ./Images_dataset/Cropped_Images2/Manuel_Neuer\n",
      "Palyers Name: Aleksandar_Pavlovic\n",
      "Generating Cropped Image in Folder:  ./Images_dataset/Cropped_Images2/Aleksandar_Pavlovic\n",
      "Palyers Name: Mathys_Tel\n",
      "Generating Cropped Image in Folder:  ./Images_dataset/Cropped_Images2/Mathys_Tel\n",
      "Palyers Name: Konrad_Laimer\n",
      "Generating Cropped Image in Folder:  ./Images_dataset/Cropped_Images2/Konrad_Laimer\n",
      "Error: 14\n",
      "Palyers Name: Matthijs_De_Ligt\n",
      "Generating Cropped Image in Folder:  ./Images_dataset/Cropped_Images2/Matthijs_De_Ligt\n",
      "Palyers Name: Eric_Maxim_Choupo_Moting\n",
      "Generating Cropped Image in Folder:  ./Images_dataset/Cropped_Images2/Eric_Maxim_Choupo_Moting\n",
      "Palyers Name: Sven_Ulreich\n",
      "Generating Cropped Image in Folder:  ./Images_dataset/Cropped_Images2/Sven_Ulreich\n",
      "Error: 110\n"
     ]
    }
   ],
   "source": [
    "cropped_img_dirs = []\n",
    "\n",
    "def Cropped_image():\n",
    "    for img_dir in img_dirs:\n",
    "        count = 1\n",
    "        name = img_dir.split(\"/\")[-1]\n",
    "        print(\"Palyers Name:\", name)\n",
    "\n",
    "        for entry in os.scandir(img_dir):\n",
    "            try:\n",
    "\n",
    "                roi_color = Get_crop_image_when_detect_2_eyes(entry.path)\n",
    "                if roi_color is not None:\n",
    "                    cropped_folder = cropped_img_file_path + name\n",
    "                    \n",
    "                    if not os.path.exists(cropped_folder):\n",
    "                        os.makedirs(cropped_folder)\n",
    "                        cropped_img_dirs.append(cropped_folder)\n",
    "                        print(\"Generating Cropped Image in Folder: \", cropped_folder)\n",
    "\n",
    "                    cropped_file_name = name + str(count) + \".jpg\"\n",
    "                    cropped_file_path = cropped_folder + \"/\" + cropped_file_name\n",
    "\n",
    "                    # Save the cropped image to the subfolder.\n",
    "                    cv2.imwrite(cropped_file_path, roi_color)\n",
    "                    count += 1\n",
    "\n",
    "            except:\n",
    "                print(\"Error:\", count)\n",
    "                continue\n",
    "\n",
    "Cropped_image()"
   ]
  },
  {
   "cell_type": "code",
   "execution_count": 16,
   "metadata": {},
   "outputs": [],
   "source": [
    "players_names_dict = {}\n",
    "\n",
    "for img_dir in cropped_img_dirs:\n",
    "  player_name = img_dir.split(\"/\")[-1]\n",
    "  file_list = []\n",
    "  for entry in os.scandir(img_dir):\n",
    "    file_list.append(entry.path)\n",
    "  players_names_dict[player_name] = file_list\n",
    "\n",
    "# players_names_dict"
   ]
  },
  {
   "cell_type": "code",
   "execution_count": 17,
   "metadata": {},
   "outputs": [
    {
     "data": {
      "text/plain": [
       "{'Leon_Goretzka': 0,\n",
       " 'Bryan_Zaragoza': 1,\n",
       " 'Raphael_Guerrerio': 2,\n",
       " 'Serge_Gnabry': 3,\n",
       " 'Bouna_Sarr': 4,\n",
       " 'Alphonso_Davies': 5,\n",
       " 'Dayot_Upamechano': 6,\n",
       " 'Noussair_Mazraoui': 7,\n",
       " 'Sacha_Boey': 8,\n",
       " 'Minjae_Kim': 9,\n",
       " 'Leroy_Sane': 10,\n",
       " 'Thomas_Muller': 11,\n",
       " 'Eric_Dier': 12,\n",
       " 'Joshua_Kimmich': 13,\n",
       " 'Harry_Kane': 14,\n",
       " 'Kingsley_Coman': 15,\n",
       " 'Jamal_Musiala': 16,\n",
       " 'Tarek_Buchmann': 17,\n",
       " 'Daniel_Peretz': 18,\n",
       " 'Manuel_Neuer': 19,\n",
       " 'Aleksandar_Pavlovic': 20,\n",
       " 'Mathys_Tel': 21,\n",
       " 'Konrad_Laimer': 22,\n",
       " 'Matthijs_De_Ligt': 23,\n",
       " 'Eric_Maxim_Choupo_Moting': 24,\n",
       " 'Sven_Ulreich': 25}"
      ]
     },
     "execution_count": 17,
     "metadata": {},
     "output_type": "execute_result"
    }
   ],
   "source": [
    "class_dict = {}\n",
    "count = 0\n",
    "\n",
    "for player_name in players_names_dict.keys():\n",
    "  class_dict[player_name] = count\n",
    "  count += 1\n",
    "\n",
    "class_dict"
   ]
  },
  {
   "cell_type": "code",
   "execution_count": 21,
   "metadata": {},
   "outputs": [],
   "source": [
    "cropped_img_dirs = ['./Images_dataset/Cropped_Images/Leon_Goretzka',\n",
    " './Images_dataset/Cropped_Images/Bryan_Zaragoza',\n",
    " './Images_dataset/Cropped_Images/Raphael_Guerrerio',\n",
    " './Images_dataset/Cropped_Images/Serge_Gnabry',\n",
    " './Images_dataset/Cropped_Images/Bouna_Sarr',\n",
    " './Images_dataset/Cropped_Images/Alphonso_Davies',\n",
    " './Images_dataset/Cropped_Images/Dayot_Upamechano',\n",
    " './Images_dataset/Cropped_Images/Noussair_Mazraoui',\n",
    " './Images_dataset/Cropped_Images/Sacha_Boey',\n",
    " './Images_dataset/Cropped_Images/Minjae_Kim',\n",
    " './Images_dataset/Cropped_Images/Leroy_Sane',\n",
    " './Images_dataset/Cropped_Images/Thomas_Muller',\n",
    " './Images_dataset/Cropped_Images/Eric_Dier',\n",
    " './Images_dataset/Cropped_Images/Joshua_Kimmich',\n",
    " './Images_dataset/Cropped_Images/Harry_Kane',\n",
    " './Images_dataset/Cropped_Images/Kingsley_Coman',\n",
    " './Images_dataset/Cropped_Images/Jamal_Musiala',\n",
    " './Images_dataset/Cropped_Images/Tarek_Buchmann',\n",
    " './Images_dataset/Cropped_Images/Daniel_Peretz',\n",
    " './Images_dataset/Cropped_Images/Manuel_Neuer',\n",
    " './Images_dataset/Cropped_Images/Aleksandar_Pavlovic',\n",
    " './Images_dataset/Cropped_Images/Mathys_Tel',\n",
    " './Images_dataset/Cropped_Images/Konrad_Laimer',\n",
    " './Images_dataset/Cropped_Images/Matthijs_De_Ligt',\n",
    " './Images_dataset/Cropped_Images/Eric_Maxim_Choupo_Moting',\n",
    " './Images_dataset/Cropped_Images/Sven_Ulreich']"
   ]
  },
  {
   "cell_type": "code",
   "execution_count": 18,
   "metadata": {},
   "outputs": [
    {
     "ename": "SyntaxError",
     "evalue": "invalid syntax (4234223723.py, line 1)",
     "output_type": "error",
     "traceback": [
      "\u001b[0;36m  Cell \u001b[0;32mIn[18], line 1\u001b[0;36m\u001b[0m\n\u001b[0;31m    please stop now\u001b[0m\n\u001b[0m           ^\u001b[0m\n\u001b[0;31mSyntaxError\u001b[0m\u001b[0;31m:\u001b[0m invalid syntax\n"
     ]
    }
   ],
   "source": [
    "please stop now"
   ]
  },
  {
   "cell_type": "markdown",
   "metadata": {},
   "source": [
    "## Wavelet transformed image"
   ]
  },
  {
   "cell_type": "code",
   "execution_count": 23,
   "metadata": {},
   "outputs": [],
   "source": [
    "def w2d(img, mode='haar', level=1):\n",
    "    imArray = img\n",
    "    #Datatype conversions\n",
    "    #convert to grayscale\n",
    "    imArray = cv2.cvtColor( imArray,cv2.COLOR_RGB2GRAY )\n",
    "    #convert to float\n",
    "    imArray =  np.float32(imArray)\n",
    "    imArray /= 255;\n",
    "    # compute coefficients\n",
    "    coeffs=pywt.wavedec2(imArray, mode, level=level)\n",
    "\n",
    "    #Process Coefficients\n",
    "    coeffs_H=list(coeffs)\n",
    "    coeffs_H[0] *= 0;\n",
    "\n",
    "    # reconstruction\n",
    "    imArray_H=pywt.waverec2(coeffs_H, mode);\n",
    "    imArray_H *= 255;\n",
    "    imArray_H =  np.uint8(imArray_H)\n",
    "\n",
    "    return imArray_H"
   ]
  },
  {
   "cell_type": "code",
   "execution_count": 24,
   "metadata": {},
   "outputs": [],
   "source": [
    "X = []\n",
    "y = []\n",
    "players_name = []\n",
    "\n",
    "for player_name, images in players_names_dict.items():\n",
    "    for image in images:\n",
    "      try:\n",
    "        img = cv2.imread(image)\n",
    "        scalled_raw_image = cv2.resize(img, (32, 32))\n",
    "        img_har = w2d(img, \"db1\", 5)\n",
    "        scalled_img_har = cv2.resize(img_har, (32, 32))\n",
    "        combined_img = np.vstack((scalled_raw_image.reshape(32*32*3, 1), scalled_img_har.reshape(32*32, 1)))\n",
    "      except:\n",
    "        continue\n",
    "\n",
    "      X.append(combined_img)\n",
    "      y.append(class_dict[player_name])\n",
    "      players_name.append(player_name)"
   ]
  },
  {
   "cell_type": "code",
   "execution_count": 25,
   "metadata": {},
   "outputs": [
    {
     "data": {
      "text/plain": [
       "(1840, 4096)"
      ]
     },
     "execution_count": 25,
     "metadata": {},
     "output_type": "execute_result"
    }
   ],
   "source": [
    "X = np.array(X).reshape(len(X), 4096).astype(float)\n",
    "X.shape"
   ]
  },
  {
   "cell_type": "markdown",
   "metadata": {},
   "source": [
    "## Save on Dataframe"
   ]
  },
  {
   "cell_type": "code",
   "execution_count": 26,
   "metadata": {},
   "outputs": [
    {
     "data": {
      "text/html": [
       "<div>\n",
       "<style scoped>\n",
       "    .dataframe tbody tr th:only-of-type {\n",
       "        vertical-align: middle;\n",
       "    }\n",
       "\n",
       "    .dataframe tbody tr th {\n",
       "        vertical-align: top;\n",
       "    }\n",
       "\n",
       "    .dataframe thead th {\n",
       "        text-align: right;\n",
       "    }\n",
       "</style>\n",
       "<table border=\"1\" class=\"dataframe\">\n",
       "  <thead>\n",
       "    <tr style=\"text-align: right;\">\n",
       "      <th></th>\n",
       "      <th>player_name</th>\n",
       "      <th>label</th>\n",
       "      <th>0</th>\n",
       "      <th>1</th>\n",
       "      <th>2</th>\n",
       "      <th>3</th>\n",
       "      <th>4</th>\n",
       "      <th>5</th>\n",
       "      <th>6</th>\n",
       "      <th>7</th>\n",
       "      <th>...</th>\n",
       "      <th>4086</th>\n",
       "      <th>4087</th>\n",
       "      <th>4088</th>\n",
       "      <th>4089</th>\n",
       "      <th>4090</th>\n",
       "      <th>4091</th>\n",
       "      <th>4092</th>\n",
       "      <th>4093</th>\n",
       "      <th>4094</th>\n",
       "      <th>4095</th>\n",
       "    </tr>\n",
       "  </thead>\n",
       "  <tbody>\n",
       "    <tr>\n",
       "      <th>0</th>\n",
       "      <td>Leon_Goretzka</td>\n",
       "      <td>0</td>\n",
       "      <td>25.0</td>\n",
       "      <td>110.0</td>\n",
       "      <td>88.0</td>\n",
       "      <td>26.0</td>\n",
       "      <td>111.0</td>\n",
       "      <td>89.0</td>\n",
       "      <td>44.0</td>\n",
       "      <td>127.0</td>\n",
       "      <td>...</td>\n",
       "      <td>5.0</td>\n",
       "      <td>4.0</td>\n",
       "      <td>252.0</td>\n",
       "      <td>6.0</td>\n",
       "      <td>167.0</td>\n",
       "      <td>251.0</td>\n",
       "      <td>167.0</td>\n",
       "      <td>246.0</td>\n",
       "      <td>248.0</td>\n",
       "      <td>3.0</td>\n",
       "    </tr>\n",
       "    <tr>\n",
       "      <th>1</th>\n",
       "      <td>Leon_Goretzka</td>\n",
       "      <td>0</td>\n",
       "      <td>79.0</td>\n",
       "      <td>107.0</td>\n",
       "      <td>147.0</td>\n",
       "      <td>69.0</td>\n",
       "      <td>99.0</td>\n",
       "      <td>145.0</td>\n",
       "      <td>32.0</td>\n",
       "      <td>55.0</td>\n",
       "      <td>...</td>\n",
       "      <td>32.0</td>\n",
       "      <td>205.0</td>\n",
       "      <td>54.0</td>\n",
       "      <td>117.0</td>\n",
       "      <td>188.0</td>\n",
       "      <td>187.0</td>\n",
       "      <td>0.0</td>\n",
       "      <td>0.0</td>\n",
       "      <td>0.0</td>\n",
       "      <td>0.0</td>\n",
       "    </tr>\n",
       "    <tr>\n",
       "      <th>2</th>\n",
       "      <td>Leon_Goretzka</td>\n",
       "      <td>0</td>\n",
       "      <td>108.0</td>\n",
       "      <td>114.0</td>\n",
       "      <td>162.0</td>\n",
       "      <td>86.0</td>\n",
       "      <td>98.0</td>\n",
       "      <td>135.0</td>\n",
       "      <td>61.0</td>\n",
       "      <td>79.0</td>\n",
       "      <td>...</td>\n",
       "      <td>193.0</td>\n",
       "      <td>24.0</td>\n",
       "      <td>32.0</td>\n",
       "      <td>10.0</td>\n",
       "      <td>17.0</td>\n",
       "      <td>22.0</td>\n",
       "      <td>28.0</td>\n",
       "      <td>53.0</td>\n",
       "      <td>250.0</td>\n",
       "      <td>40.0</td>\n",
       "    </tr>\n",
       "    <tr>\n",
       "      <th>3</th>\n",
       "      <td>Leon_Goretzka</td>\n",
       "      <td>0</td>\n",
       "      <td>20.0</td>\n",
       "      <td>27.0</td>\n",
       "      <td>42.0</td>\n",
       "      <td>4.0</td>\n",
       "      <td>13.0</td>\n",
       "      <td>33.0</td>\n",
       "      <td>7.0</td>\n",
       "      <td>14.0</td>\n",
       "      <td>...</td>\n",
       "      <td>201.0</td>\n",
       "      <td>202.0</td>\n",
       "      <td>186.0</td>\n",
       "      <td>197.0</td>\n",
       "      <td>203.0</td>\n",
       "      <td>43.0</td>\n",
       "      <td>131.0</td>\n",
       "      <td>131.0</td>\n",
       "      <td>0.0</td>\n",
       "      <td>0.0</td>\n",
       "    </tr>\n",
       "    <tr>\n",
       "      <th>4</th>\n",
       "      <td>Leon_Goretzka</td>\n",
       "      <td>0</td>\n",
       "      <td>56.0</td>\n",
       "      <td>64.0</td>\n",
       "      <td>84.0</td>\n",
       "      <td>46.0</td>\n",
       "      <td>62.0</td>\n",
       "      <td>85.0</td>\n",
       "      <td>69.0</td>\n",
       "      <td>79.0</td>\n",
       "      <td>...</td>\n",
       "      <td>73.0</td>\n",
       "      <td>6.0</td>\n",
       "      <td>7.0</td>\n",
       "      <td>2.0</td>\n",
       "      <td>7.0</td>\n",
       "      <td>9.0</td>\n",
       "      <td>10.0</td>\n",
       "      <td>12.0</td>\n",
       "      <td>14.0</td>\n",
       "      <td>19.0</td>\n",
       "    </tr>\n",
       "  </tbody>\n",
       "</table>\n",
       "<p>5 rows × 4098 columns</p>\n",
       "</div>"
      ],
      "text/plain": [
       "     player_name  label      0      1      2     3      4      5     6      7  \\\n",
       "0  Leon_Goretzka      0   25.0  110.0   88.0  26.0  111.0   89.0  44.0  127.0   \n",
       "1  Leon_Goretzka      0   79.0  107.0  147.0  69.0   99.0  145.0  32.0   55.0   \n",
       "2  Leon_Goretzka      0  108.0  114.0  162.0  86.0   98.0  135.0  61.0   79.0   \n",
       "3  Leon_Goretzka      0   20.0   27.0   42.0   4.0   13.0   33.0   7.0   14.0   \n",
       "4  Leon_Goretzka      0   56.0   64.0   84.0  46.0   62.0   85.0  69.0   79.0   \n",
       "\n",
       "   ...   4086   4087   4088   4089   4090   4091   4092   4093   4094  4095  \n",
       "0  ...    5.0    4.0  252.0    6.0  167.0  251.0  167.0  246.0  248.0   3.0  \n",
       "1  ...   32.0  205.0   54.0  117.0  188.0  187.0    0.0    0.0    0.0   0.0  \n",
       "2  ...  193.0   24.0   32.0   10.0   17.0   22.0   28.0   53.0  250.0  40.0  \n",
       "3  ...  201.0  202.0  186.0  197.0  203.0   43.0  131.0  131.0    0.0   0.0  \n",
       "4  ...   73.0    6.0    7.0    2.0    7.0    9.0   10.0   12.0   14.0  19.0  \n",
       "\n",
       "[5 rows x 4098 columns]"
      ]
     },
     "execution_count": 26,
     "metadata": {},
     "output_type": "execute_result"
    }
   ],
   "source": [
    "X = pd.DataFrame(X)  # Convert the list of images to a DataFrame\n",
    "y = pd.Series(y, name='label')  # Convert the list of labels to a Series\n",
    "players_name = pd.Series(players_name, name='player_name')\n",
    "\n",
    "df = pd.concat([players_name, y, X], axis=1)\n",
    "df.head()"
   ]
  },
  {
   "cell_type": "code",
   "execution_count": 27,
   "metadata": {},
   "outputs": [
    {
     "name": "stdout",
     "output_type": "stream",
     "text": [
      "New CSV file 'Bayern_Munich_23-2024_Squad_Images_data.csv' has been saved.\n"
     ]
    }
   ],
   "source": [
    "database_path = \"Bayern_Munich_23-2024_Squad_Images_data.csv\"\n",
    "\n",
    "# Check if the file exists\n",
    "if os.path.exists(database_path):\n",
    "    # Remove the existing file\n",
    "    os.remove(database_path)\n",
    "\n",
    "# Save the new DataFrame to a CSV file\n",
    "df.to_csv(database_path, index=False)\n",
    "\n",
    "print(f\"New CSV file '{database_path}' has been saved.\")"
   ]
  }
 ],
 "metadata": {
  "kernelspec": {
   "display_name": "venv",
   "language": "python",
   "name": "python3"
  },
  "language_info": {
   "codemirror_mode": {
    "name": "ipython",
    "version": 3
   },
   "file_extension": ".py",
   "mimetype": "text/x-python",
   "name": "python",
   "nbconvert_exporter": "python",
   "pygments_lexer": "ipython3",
   "version": "3.10.12"
  }
 },
 "nbformat": 4,
 "nbformat_minor": 2
}
